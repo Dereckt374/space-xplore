{
 "cells": [
  {
   "cell_type": "markdown",
   "metadata": {},
   "source": [
    "### Convert orbital paramters to TLE"
   ]
  },
  {
   "cell_type": "code",
   "execution_count": 1,
   "metadata": {},
   "outputs": [],
   "source": [
    "import datetime\n",
    "from datetime import timezone\n",
    "import skyfield\n",
    "from skyfield.api import EarthSatellite, load, wgs84, N, S, E, W\n",
    "import numpy as np\n"
   ]
  },
  {
   "cell_type": "code",
   "execution_count": 2,
   "metadata": {},
   "outputs": [],
   "source": [
    "## Charge le module 'temps'\n",
    "ts = load.timescale()"
   ]
  },
  {
   "cell_type": "code",
   "execution_count": 4,
   "metadata": {},
   "outputs": [],
   "source": [
    "# 2023-11-09T19:43:22.890Z  \n",
    "\n",
    "epo_year = 2024\n",
    "epo_month = 7\n",
    "epo_day = 9\n",
    "epo_hour = 19\n",
    "epo_min = 00\n",
    "epo_sec = 00\n",
    "epo_mil = 00\n",
    "\n",
    "\n",
    "launch_epoch = datetime.datetime(epo_year, epo_month, epo_day, epo_hour,epo_min, epo_sec, epo_mil)\n",
    "begining_of_the_world = datetime.datetime(1949, 12, 31, 00, 00,00,00)"
   ]
  },
  {
   "cell_type": "code",
   "execution_count": 5,
   "metadata": {},
   "outputs": [
    {
     "data": {
      "text/plain": [
       "27219.791666666668"
      ]
     },
     "execution_count": 5,
     "metadata": {},
     "output_type": "execute_result"
    }
   ],
   "source": [
    "epoch = launch_epoch - begining_of_the_world\n",
    "epoch = epoch.total_seconds()/(60*60*24)\n",
    "epoch"
   ]
  },
  {
   "cell_type": "markdown",
   "metadata": {},
   "source": [
    "$$ eccentricité = \\frac{r_a - r_p}{r_a + r_p} $$\n",
    "$$ P = 2*\\pi * \\sqrt{\\frac{a^3}{GMt}}$$\n",
    "$$ n = \\frac{2*\\pi}{P}$$"
   ]
  },
  {
   "cell_type": "code",
   "execution_count": 6,
   "metadata": {},
   "outputs": [],
   "source": [
    "def periodOrbit(nu, a):\n",
    "    return round(2*np.pi*(((a**3)/nu))**(1/2),5)"
   ]
  },
  {
   "cell_type": "code",
   "execution_count": 10,
   "metadata": {},
   "outputs": [],
   "source": [
    "## A RENSEIGNER\n",
    "ra = 579.620 # [km]\n",
    "rp = 575.072 # [km]"
   ]
  },
  {
   "cell_type": "code",
   "execution_count": 12,
   "metadata": {},
   "outputs": [
    {
     "name": "stdout",
     "output_type": "stream",
     "text": [
      "alt. orbite moyenne (a) [km] :  577.343 \n",
      "ecc :  0.003938712661038616 \n",
      "period [min] : 96.265235 \n",
      "mean motion [rad/min] :  0.06526951611534097\n"
     ]
    }
   ],
   "source": [
    "\n",
    "r_terre = 6378.137 # [km]\n",
    "a = ((rp + ra)/2+ r_terre )* 1000 # [m]\n",
    "\n",
    "G=6.67e-11 #cst grav. [m3/kg/s2]\n",
    "Mt=5.97e24 #masse terre [kg]\n",
    "nu=G*Mt #[m3/s2]\n",
    "\n",
    "P = periodOrbit(nu, a) / 60\n",
    "sat_ecco = (ra - rp)/(ra + rp)\n",
    "no_kozai = (2*np.pi / P)\n",
    "\n",
    "print(\"alt. orbite moyenne (a) [km] : \", round(a/1000 - 6378.14,3), \"\\necc : \", sat_ecco, \"\\nperiod [min] :\",P, \"\\nmean motion [rad/min] : \",no_kozai )"
   ]
  },
  {
   "cell_type": "code",
   "execution_count": 13,
   "metadata": {},
   "outputs": [
    {
     "name": "stdout",
     "output_type": "stream",
     "text": [
      "B* :  0.006431250000000002\n"
     ]
    }
   ],
   "source": [
    "# Drag coef\n",
    "C_D = 1.05 # 1.05 for a cube, 0.8 for a angled cube\n",
    "A_s = 0.1 *0.1 # the cross-sectional area\n",
    "m = 1 # mass of satellite, kg\n",
    "rho_air = 1.225 # kg/m3 \n",
    "\n",
    "B = C_D * A_s / m\n",
    "B_star = B * rho_air / 2\n",
    "\n",
    "print(\"B* : \", B_star)"
   ]
  },
  {
   "cell_type": "code",
   "execution_count": 131,
   "metadata": {},
   "outputs": [],
   "source": [
    "sat_num = 99899            # ok \t                        \t# satnum: Satellite number (5 digit)\n",
    "sat_epoch = epoch      # ok                            \t# epoch: days since 1949 December 31 00:00 UT\n",
    "sat_bstar = B_star     # ok                             \t# bstar: drag coefficient (/earth radii)\n",
    "sat_ndot = 0\t                        \t           # ndot: ballistic coefficient (revs/day)\n",
    "sat_nndot = 0.0                                        # nddot: second derivative of mean motion (revs/day^3)\n",
    "# sat_ecco = 0.1859667    \t                           # ecco: eccentricity\n",
    "sat_argpo = ( 360 -131.945 )  * (np.pi / 180)                   # argpo: argument of perigee (radians)\n",
    "inclo = 97.459 * (np.pi / 180)                        # inclo: inclination (radians)\n",
    "mo = (360 -157.843 )    * (np.pi / 180)                                      \t# mo: mean anomaly (radians)\n",
    "# no_kozai = 0.0472294454407 \t                           # no_kozai: mean motion (radians/minute)\n",
    "nodeo = 34.405\t* (np.pi / 180)                    \t# nodeo: right ascension of ascending node (radians)"
   ]
  },
  {
   "cell_type": "code",
   "execution_count": 132,
   "metadata": {},
   "outputs": [],
   "source": [
    "from sgp4.api import Satrec, WGS72, WGS84\n",
    "\n",
    "satrec = Satrec()\n",
    "satrec.sgp4init(\n",
    "    WGS84,              # gravity model\n",
    "    'i',                # 'a' = old AFSPC mode, 'i' = improved mode\n",
    "    sat_num,          \t \t# satnum: Satellite number\n",
    "    sat_epoch,       \t    # epoch: days since 1949 December 31 00:00 UT\n",
    "    sat_bstar,      \t    # bstar: drag coefficient (/earth radii)\n",
    "    sat_ndot,\t \t        # ndot: ballistic coefficient (revs/day)\n",
    "    sat_nndot,             \t# nddot: second derivative of mean motion (revs/day^3)\n",
    "    sat_ecco,    \t        # ecco: eccentricity\n",
    "    sat_argpo,\t            # argpo: argument of perigee (radians)\n",
    "    inclo,\t\t            # inclo: inclination (radians)\n",
    "    mo, \t                # mo: mean anomaly (radians)\n",
    "    no_kozai, \t            # no_kozai: mean motion (radians/minute)\n",
    "    nodeo, \t\t            # nodeo: right ascension of ascending node (radians)\n",
    ")"
   ]
  },
  {
   "cell_type": "code",
   "execution_count": 133,
   "metadata": {},
   "outputs": [
    {
     "name": "stdout",
     "output_type": "stream",
     "text": [
      "Satellite number: 88888\n",
      "Epoch: A.D. 2023-Dec-01 19:42:16.0010 UTC\n"
     ]
    }
   ],
   "source": [
    "sat = EarthSatellite.from_satrec(satrec, ts)\n",
    "print('Satellite number:', sat.model.satnum)\n",
    "print('Epoch:', sat.epoch.utc_jpl())"
   ]
  },
  {
   "cell_type": "code",
   "execution_count": 134,
   "metadata": {},
   "outputs": [
    {
     "data": {
      "text/plain": [
       "<EarthSatellite catalog #88888 epoch 2023-12-01 19:42:16 UTC>"
      ]
     },
     "execution_count": 134,
     "metadata": {},
     "output_type": "execute_result"
    }
   ],
   "source": [
    "sat"
   ]
  },
  {
   "cell_type": "code",
   "execution_count": 135,
   "metadata": {},
   "outputs": [
    {
     "data": {
      "text/plain": [
       "<function Satrec.twoline2rv>"
      ]
     },
     "execution_count": 135,
     "metadata": {},
     "output_type": "execute_result"
    }
   ],
   "source": [
    "sat.model.twoline2rv"
   ]
  },
  {
   "cell_type": "markdown",
   "metadata": {},
   "source": [
    "### Print TLE"
   ]
  },
  {
   "cell_type": "code",
   "execution_count": 136,
   "metadata": {},
   "outputs": [],
   "source": [
    "sat_name = 'ENSO'"
   ]
  },
  {
   "cell_type": "code",
   "execution_count": 137,
   "metadata": {},
   "outputs": [
    {
     "name": "stdout",
     "output_type": "stream",
     "text": [
      "2460279.5 0.8210185185185185\n"
     ]
    }
   ],
   "source": [
    "from sgp4.api import jday\n",
    "jd, fr = jday(epo_year,epo_month,epo_day,epo_hour,epo_min,epo_sec)\n",
    "print(jd, fr)"
   ]
  },
  {
   "cell_type": "code",
   "execution_count": 138,
   "metadata": {},
   "outputs": [
    {
     "data": {
      "text/plain": [
       "88888"
      ]
     },
     "execution_count": 138,
     "metadata": {},
     "output_type": "execute_result"
    }
   ],
   "source": [
    "sat.model.satnum "
   ]
  },
  {
   "cell_type": "code",
   "execution_count": 139,
   "metadata": {},
   "outputs": [
    {
     "name": "stdout",
     "output_type": "stream",
     "text": [
      "1 88888U          23335.82101853  .00000000  00000-0  64313-2 0    06 \n",
      " 2 88888  97.4590  34.4050 0061006 228.0550 202.1570 15.16981528    00\n"
     ]
    }
   ],
   "source": [
    "from sgp4 import exporter\n",
    "line1, line2 = exporter.export_tle(satrec)\n",
    "print(line1,\"\\n\", line2)"
   ]
  },
  {
   "cell_type": "code",
   "execution_count": 108,
   "metadata": {},
   "outputs": [
    {
     "data": {
      "text/plain": [
       "<EarthSatellite catalog #88888 epoch 2023-12-01 18:11:07 UTC>"
      ]
     },
     "execution_count": 108,
     "metadata": {},
     "output_type": "execute_result"
    }
   ],
   "source": [
    "sat"
   ]
  },
  {
   "cell_type": "code",
   "execution_count": 109,
   "metadata": {},
   "outputs": [],
   "source": [
    "t = ts.utc(epo_year, epo_month, epo_day, epo_hour, epo_min, epo_sec)"
   ]
  },
  {
   "cell_type": "code",
   "execution_count": 110,
   "metadata": {},
   "outputs": [],
   "source": [
    "from skyfield.framelib import itrs, ICRS"
   ]
  },
  {
   "cell_type": "code",
   "execution_count": 111,
   "metadata": {},
   "outputs": [],
   "source": [
    "from skyfield.framelib import \\\n",
    "    true_equator_and_equinox_of_date as of_date"
   ]
  },
  {
   "cell_type": "code",
   "execution_count": 112,
   "metadata": {},
   "outputs": [
    {
     "data": {
      "text/plain": [
       "array([2160.17669862, 1348.27411255, 6438.30638562])"
      ]
     },
     "execution_count": 112,
     "metadata": {},
     "output_type": "execute_result"
    }
   ],
   "source": [
    "sat.at(t).frame_xyz(itrs).km"
   ]
  },
  {
   "cell_type": "code",
   "execution_count": 113,
   "metadata": {},
   "outputs": [
    {
     "data": {
      "text/plain": [
       "(<Angle +68deg 25' 14.7\">, <Angle 31deg 58' 13.2\">, <Distance 4.62813e-05 au>)"
      ]
     },
     "execution_count": 113,
     "metadata": {},
     "output_type": "execute_result"
    }
   ],
   "source": [
    "## see API doc\n",
    "# sat.at(t).frame_latlon_and_rates(itrs)\n",
    "sat.at(t).frame_latlon(itrs)"
   ]
  },
  {
   "cell_type": "code",
   "execution_count": 114,
   "metadata": {},
   "outputs": [
    {
     "data": {
      "text/plain": [
       "array([[ 9.55365231e-01, -2.95419104e-01, -2.19737567e-03],\n",
       "       [ 2.95418245e-01,  9.55367757e-01, -7.13343330e-04],\n",
       "       [ 2.31003712e-03,  3.23585508e-05,  9.99997331e-01]])"
      ]
     },
     "execution_count": 114,
     "metadata": {},
     "output_type": "execute_result"
    }
   ],
   "source": [
    "## PERMET DE PASSER D'UN REFERENTIEL ICRS → ITRS @ epoch 't'\n",
    "R = itrs.rotation_at(t)\n",
    "R"
   ]
  },
  {
   "cell_type": "code",
   "execution_count": 115,
   "metadata": {},
   "outputs": [
    {
     "data": {
      "text/plain": [
       "<Geocentric ICRS position and velocity at date t center=399 target=-188888>"
      ]
     },
     "execution_count": 115,
     "metadata": {},
     "output_type": "execute_result"
    }
   ],
   "source": [
    "sat.at(t)"
   ]
  },
  {
   "cell_type": "code",
   "execution_count": 116,
   "metadata": {},
   "outputs": [],
   "source": [
    "from skyfield.elementslib import OsculatingElements"
   ]
  },
  {
   "cell_type": "code",
   "execution_count": 117,
   "metadata": {},
   "outputs": [],
   "source": [
    "r_ecef_m =  [4445128.808, 4530167.679, -2720070.099]\n",
    "v_ecef_m_per_s = [3174.025, 1038.424, 6914.022]"
   ]
  }
 ],
 "metadata": {
  "kernelspec": {
   "display_name": "Python 3",
   "language": "python",
   "name": "python3"
  },
  "language_info": {
   "codemirror_mode": {
    "name": "ipython",
    "version": 3
   },
   "file_extension": ".py",
   "mimetype": "text/x-python",
   "name": "python",
   "nbconvert_exporter": "python",
   "pygments_lexer": "ipython3",
   "version": "3.10.0"
  }
 },
 "nbformat": 4,
 "nbformat_minor": 2
}
