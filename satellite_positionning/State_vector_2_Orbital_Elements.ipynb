{
 "cells": [
  {
   "cell_type": "code",
   "execution_count": 70,
   "metadata": {},
   "outputs": [],
   "source": [
    "import numpy as np\n",
    "import math"
   ]
  },
  {
   "cell_type": "code",
   "execution_count": 38,
   "metadata": {},
   "outputs": [],
   "source": [
    "r = [4512774.685, 4551296.011, -2569309.564] #m\n",
    "v = [3062.034, 909.599, 6982.887] #m/s"
   ]
  },
  {
   "cell_type": "code",
   "execution_count": 39,
   "metadata": {},
   "outputs": [
    {
     "name": "stdout",
     "output_type": "stream",
     "text": [
      "[4512.774684999999, 4551.296011, -2569.3095639999997]\n",
      "[3.062034, 0.909599, 6.982887]\n"
     ]
    }
   ],
   "source": [
    "r = [i/1000 for i in r] \n",
    "v = [i/1000 for i in v]\n",
    "print(r)\n",
    "print(v)"
   ]
  },
  {
   "cell_type": "code",
   "execution_count": 40,
   "metadata": {},
   "outputs": [],
   "source": [
    "# r = [5561.43370776, 3185.88854976, -2569.309564]"
   ]
  },
  {
   "cell_type": "code",
   "execution_count": 41,
   "metadata": {},
   "outputs": [],
   "source": [
    "G=6.67e-11 #cst grav. [m3/kg/s2]\n",
    "Mt=5.97e24 #masse terre [kg]\n",
    "mu=G*Mt / 10**9 #[km3/s2] mu = 3.986e5  # km^3/s^2\n"
   ]
  },
  {
   "cell_type": "code",
   "execution_count": 42,
   "metadata": {},
   "outputs": [],
   "source": [
    "r_vec = np.array(r)  # km\n",
    "v_vec = np.array(v)  # km/s\n"
   ]
  },
  {
   "cell_type": "code",
   "execution_count": 43,
   "metadata": {},
   "outputs": [],
   "source": [
    "r = np.linalg.norm(r_vec)\n",
    "v = np.linalg.norm(v_vec)\n",
    "v_r = np.dot(r_vec / r, v_vec)\n",
    "v_p = np.sqrt(v ** 2 - v_r ** 2)"
   ]
  },
  {
   "cell_type": "code",
   "execution_count": 44,
   "metadata": {},
   "outputs": [],
   "source": [
    "h_vec = np.cross(r_vec, v_vec)\n",
    "h = np.linalg.norm(h_vec)"
   ]
  },
  {
   "cell_type": "code",
   "execution_count": 45,
   "metadata": {},
   "outputs": [],
   "source": [
    "i = np.arccos(h_vec[2] / h)"
   ]
  },
  {
   "cell_type": "code",
   "execution_count": 46,
   "metadata": {},
   "outputs": [],
   "source": [
    "K = np.array((0, 0, 1))\n",
    "N_vec = np.cross(K, h_vec)\n",
    "N = np.linalg.norm(N_vec)\n",
    "Omega = 2 * np.pi - np.arccos(N_vec[0] / N)"
   ]
  },
  {
   "cell_type": "code",
   "execution_count": 47,
   "metadata": {},
   "outputs": [],
   "source": [
    "# [section-5]\n",
    "e_vec = np.cross(v_vec, h_vec) / mu - r_vec / r\n",
    "e = np.linalg.norm(e_vec)"
   ]
  },
  {
   "cell_type": "code",
   "execution_count": 48,
   "metadata": {},
   "outputs": [],
   "source": [
    "omega = 2 * np.pi - np.arccos(np.dot(N_vec, e_vec) / (N * e))"
   ]
  },
  {
   "cell_type": "code",
   "execution_count": 49,
   "metadata": {},
   "outputs": [],
   "source": [
    "nu = np.arccos(np.dot(r_vec / r, e_vec / e))"
   ]
  },
  {
   "cell_type": "code",
   "execution_count": 50,
   "metadata": {},
   "outputs": [
    {
     "name": "stdout",
     "output_type": "stream",
     "text": [
      "orbital angular momentum : 53023.16\n",
      "Inclination : 1.76 rad\n",
      "Right Ascension of the Ascending Node : 5.57 rad\n",
      "Eccentricity : 0.02\n",
      "Argument of Periapsis : 5.88 rad\n",
      "True Anomaly : 0.01 rad\n"
     ]
    }
   ],
   "source": [
    "print(f\"orbital angular momentum : {h:.2f}\")\n",
    "print(f\"Inclination : {i:.2f} rad\")\n",
    "print(f\"Right Ascension of the Ascending Node : {Omega:.2f} rad\")\n",
    "print(f'Eccentricity : {e:.2f}')\n",
    "print(f'Argument of Periapsis : {omega:.2f} rad')\n",
    "print(f'True Anomaly : {nu:.2f} rad' )"
   ]
  },
  {
   "cell_type": "code",
   "execution_count": 51,
   "metadata": {},
   "outputs": [
    {
     "name": "stdout",
     "output_type": "stream",
     "text": [
      "Argument of Periapsis : 336.92 deg\n",
      "Inclination : 100.69 deg\n",
      "Right Ascension of the Ascending Node : 319.09 deg\n",
      "True Anomaly : 0.83 deg\n",
      "orbital angular momentum : 53023.16\n",
      "Eccentricity : 0.02\n"
     ]
    }
   ],
   "source": [
    "print(f'Argument of Periapsis : {math.degrees(omega):.2f} deg')\n",
    "print(f\"Inclination : {math.degrees(i):.2f} deg\")\n",
    "print(f\"Right Ascension of the Ascending Node : {math.degrees(Omega):.2f} deg\")\n",
    "print(f'True Anomaly : {math.degrees(nu):.2f} deg' )\n",
    "print(f\"orbital angular momentum : {h:.2f}\")\n",
    "print(f'Eccentricity : {e:.2f}')\n"
   ]
  },
  {
   "cell_type": "code",
   "execution_count": 52,
   "metadata": {},
   "outputs": [
    {
     "data": {
      "text/plain": [
       "336.376"
      ]
     },
     "execution_count": 52,
     "metadata": {},
     "output_type": "execute_result"
    }
   ],
   "source": [
    "360-23.624"
   ]
  }
 ],
 "metadata": {
  "kernelspec": {
   "display_name": "Python 3",
   "language": "python",
   "name": "python3"
  },
  "language_info": {
   "codemirror_mode": {
    "name": "ipython",
    "version": 3
   },
   "file_extension": ".py",
   "mimetype": "text/x-python",
   "name": "python",
   "nbconvert_exporter": "python",
   "pygments_lexer": "ipython3",
   "version": "3.10.0"
  }
 },
 "nbformat": 4,
 "nbformat_minor": 2
}
