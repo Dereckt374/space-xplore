{
 "cells": [
  {
   "cell_type": "code",
   "execution_count": 1,
   "metadata": {},
   "outputs": [],
   "source": [
    "user = 'virgil.mesle@gmail.com'\n",
    "mdp = 'Copernicus4321#'"
   ]
  },
  {
   "cell_type": "code",
   "execution_count": 5,
   "metadata": {},
   "outputs": [],
   "source": [
    "import fnmatch\n",
    "from sentinelsat import SentinelAPI, make_path_filter\n",
    "from sentinelsat import SentinelAPI, read_geojson, geojson_to_wkt\n",
    "from datetime import date"
   ]
  },
  {
   "cell_type": "code",
   "execution_count": 11,
   "metadata": {},
   "outputs": [],
   "source": [
    "link = 'https://dataspace.copernicus.eu'  #'https://scihub.copernicus.eu/dhus/'"
   ]
  },
  {
   "cell_type": "code",
   "execution_count": 12,
   "metadata": {},
   "outputs": [],
   "source": [
    "api = SentinelAPI(user, mdp, link)"
   ]
  },
  {
   "cell_type": "code",
   "execution_count": 13,
   "metadata": {},
   "outputs": [
    {
     "ename": "ServerError",
     "evalue": "HTTP status 404 Not Found: \n* [News](/news)\n  * [Dashboard](/copernicus-data-space-ecosystem-dashboard)\n  * [Cases](https://dataspace.copernicus.eu/cases)\n  * [Events](/events)\n  * [Gallery](/gallery)\n  * [Videos](/videos)\n  * [About](/about)\n\n[ ](/ \"Home - Copernicus Data Space Ecosystem\")\n\n  * [Explore data](/explore-data)\n    * [Copernicus Browser](https://dataspace.copernicus.eu/browser/)\n    * [Data collections](/explore-data/data-collections)\n  * [Analyse Data](/analyse)\n    * [APIs](/analyse/apis)\n    * [Data Workspace](/analyse/data-workspace)\n    * [Traceability](/analyse/traceability)\n    * [JupyterLab](/analyse/jupyterlab)\n    * [openEO](/analyse/openeo)\n    * [Sentinel Hub](https://shapps.dataspace.copernicus.eu/dashboard/#/)\n  * [Ecosystem](/ecosystem)\n    * [Services](/ecosystem/services)\n\n  * [Support](https://helpcenter.dataspace.copernicus.eu/hc/en-gb)\n    * [Documentation portal](https://documentation.dataspace.copernicus.eu/Home.html)\n    * [FAQ](https://documentation.dataspace.copernicus.eu/FAQ.html)\n    * [User support](https://helpcenter.dataspace.copernicus.eu/hc/en-gb)\n    * [Community forum](https://forum.dataspace.copernicus.eu/)\n  * [Login](https://identity.dataspace.copernicus.eu/auth/realms/CDSE/protocol/openid-connect/auth?client_id=cdse-public&response_type=code&scope=openid&redirect_uri=https%3A//dataspace.copernicus.eu/)\n\nMenu\n\n# Page not found\n\n## Warning message\n\n**SYSTEM MESSAGE**\n\nOpenEO is experiencing issues. Our engineers are currently working hard to get\nit back online asap.\n\nThe requested page could not be found.\n\n[ ](/ \"Home - Copernicus Data Space Ecosystem\")\n\n  * ## [Explore data](/explore-data)\n\n    * [Copernicus Browser](https://dataspace.copernicus.eu/browser/)\n    * [Data collections](/explore-data/data-collections)\n  * ## [Analyse Data](/analyse)\n\n    * [APIs](/analyse/apis)\n    * [Data Workspace](/analyse/data-workspace)\n    * [Traceability](/analyse/traceability)\n    * [JupyterLab](/analyse/jupyterlab)\n    * [openEO](/analyse/openeo)\n    * [Sentinel Hub](https://shapps.dataspace.copernicus.eu/dashboard/#/)\n  * ## [Ecosystem](/ecosystem)\n\n    * [Services](/ecosystem/services)\n  * ## More\n\n    * [Support](https://helpcenter.dataspace.copernicus.eu/hc/en-gb)\n    * [Login](https://identity.dataspace.copernicus.eu/auth/realms/CDSE/protocol/openid-connect/auth?client_id=cdse-public&response_type=code&scope=openid&redirect_uri=https%3A//dataspace.copernicus.eu/)\n    * [News](/news)\n    * [Dashboard](/copernicus-data-space-ecosystem-dashboard)\n    * [Cases](https://dataspace.copernicus.eu/cases)\n    * [Events](/events)\n    * [Gallery](/gallery)\n    * [Videos](/videos)\n    * [About](/about)\n\n[Newsletter ](/webform/newsletter)\n\n**Do you have questions?**\n\nContact us via the [about page](/about#contact-form \"About\")\n\n  * [RSS](/stay-informed/RSSfeeds \"Link to RSS feed\")\n  * [YouTube](https://www.youtube.com/@copernicusdataspaceecosystem \"Visit us on YouTube\")\n  * [Twitter](https://twitter.com/CopernicusEU \"Visit us on Twitter\")\n  * [Facebook](https://www.facebook.com/CopernicusEU \"Visit us on Facebook\")\n  * [Instagram](https://www.instagram.com/copernicus_eu \"Visit us on Instagram\")\n  * [Linkedin](https://www.linkedin.com/company/copernicus-data-space-ecosystem)\n  * [Newsletter](/webform/newsletter)\n\n  * [Terms and conditions](/terms-and-conditions)\n  * [Privacy policy](/privacy-policy)\n\n[ ](/ \"Home - Copernicus Data Space Ecosystem\")\n\nClose\n\n  * ## [Explore data](/explore-data)\n\n    * [Copernicus Browser](https://dataspace.copernicus.eu/browser/)\n    * [Data collections](/explore-data/data-collections)\n  * ## [Analyse Data](/analyse)\n\n    * [APIs](/analyse/apis)\n    * [Data Workspace](/analyse/data-workspace)\n    * [Traceability](/analyse/traceability)\n    * [JupyterLab](/analyse/jupyterlab)\n    * [openEO](/analyse/openeo)\n    * [Sentinel Hub](https://shapps.dataspace.copernicus.eu/dashboard/#/)\n  * ## [Ecosystem](/ecosystem)\n\n    * [Services](/ecosystem/services)\n\n  * [News](/news)\n  * [Dashboard](/copernicus-data-space-ecosystem-dashboard)\n  * [Cases](https://dataspace.copernicus.eu/cases)\n  * [Events](/events)\n  * [Gallery](/gallery)\n  * [Videos](/videos)\n  * [About](/about)\n\n  * [Support](https://helpcenter.dataspace.copernicus.eu/hc/en-gb)\n  * [Login](https://identity.dataspace.copernicus.eu/auth/realms/CDSE/protocol/openid-connect/auth?client_id=cdse-public&response_type=code&scope=openid&redirect_uri=https%3A//dataspace.copernicus.eu/)",
     "output_type": "error",
     "traceback": [
      "\u001b[1;31m---------------------------------------------------------------------------\u001b[0m",
      "\u001b[1;31mHTTPError\u001b[0m                                 Traceback (most recent call last)",
      "File \u001b[1;32mc:\\Users\\virgi\\AppData\\Local\\Programs\\Python\\Python311\\Lib\\site-packages\\sentinelsat\\sentinel.py:1023\u001b[0m, in \u001b[0;36mSentinelAPI._check_scihub_response\u001b[1;34m(response, test_json, query_string)\u001b[0m\n\u001b[0;32m   1022\u001b[0m \u001b[38;5;28;01mtry\u001b[39;00m:\n\u001b[1;32m-> 1023\u001b[0m     \u001b[43mresponse\u001b[49m\u001b[38;5;241;43m.\u001b[39;49m\u001b[43mraise_for_status\u001b[49m\u001b[43m(\u001b[49m\u001b[43m)\u001b[49m\n\u001b[0;32m   1024\u001b[0m     \u001b[38;5;28;01mif\u001b[39;00m test_json:\n",
      "File \u001b[1;32mc:\\Users\\virgi\\AppData\\Local\\Programs\\Python\\Python311\\Lib\\site-packages\\requests\\models.py:1021\u001b[0m, in \u001b[0;36mResponse.raise_for_status\u001b[1;34m(self)\u001b[0m\n\u001b[0;32m   1020\u001b[0m \u001b[38;5;28;01mif\u001b[39;00m http_error_msg:\n\u001b[1;32m-> 1021\u001b[0m     \u001b[38;5;28;01mraise\u001b[39;00m HTTPError(http_error_msg, response\u001b[38;5;241m=\u001b[39m\u001b[38;5;28mself\u001b[39m)\n",
      "\u001b[1;31mHTTPError\u001b[0m: 404 Client Error: Not Found for url: https://dataspace.copernicus.eu/search?format=json&rows=100&start=0&q=beginPosition%3A%5B%222023-08-01T00%3A00%3A00Z%22+TO+%222023-08-31T00%3A00%3A00Z%22%5D+cloudcoverpercentage%3A%5B%220%22+TO+%2230%22%5D+platformname%3A%22Sentinel-2%22+footprint%3A%22Intersects%28GEOMETRYCOLLECTION%28POLYGON%28%28-5.0000+45.0000%2C5.0000+45.0000%2C5.0000+55.0000%2C-5.0000+55.0000%2C-5.0000+45.0000%29%29%29%29%22",
      "\nDuring handling of the above exception, another exception occurred:\n",
      "\u001b[1;31mServerError\u001b[0m                               Traceback (most recent call last)",
      "Cell \u001b[1;32mIn[13], line 3\u001b[0m\n\u001b[0;32m      1\u001b[0m \u001b[38;5;66;03m# Définir les paramètres de la requête\u001b[39;00m\n\u001b[0;32m      2\u001b[0m footprint \u001b[38;5;241m=\u001b[39m geojson_to_wkt(read_geojson(\u001b[38;5;124m'\u001b[39m\u001b[38;5;124marea_of_interest.geojson\u001b[39m\u001b[38;5;124m'\u001b[39m))\n\u001b[1;32m----> 3\u001b[0m products \u001b[38;5;241m=\u001b[39m \u001b[43mapi\u001b[49m\u001b[38;5;241;43m.\u001b[39;49m\u001b[43mquery\u001b[49m\u001b[43m(\u001b[49m\u001b[43mfootprint\u001b[49m\u001b[43m,\u001b[49m\n\u001b[0;32m      4\u001b[0m \u001b[43m                     \u001b[49m\u001b[43mdate\u001b[49m\u001b[38;5;241;43m=\u001b[39;49m\u001b[43m(\u001b[49m\u001b[38;5;124;43m'\u001b[39;49m\u001b[38;5;124;43m20230801\u001b[39;49m\u001b[38;5;124;43m'\u001b[39;49m\u001b[43m,\u001b[49m\u001b[43m \u001b[49m\u001b[38;5;124;43m'\u001b[39;49m\u001b[38;5;124;43m20230831\u001b[39;49m\u001b[38;5;124;43m'\u001b[39;49m\u001b[43m)\u001b[49m\u001b[43m,\u001b[49m\n\u001b[0;32m      5\u001b[0m \u001b[43m                     \u001b[49m\u001b[43mplatformname\u001b[49m\u001b[38;5;241;43m=\u001b[39;49m\u001b[38;5;124;43m'\u001b[39;49m\u001b[38;5;124;43mSentinel-2\u001b[39;49m\u001b[38;5;124;43m'\u001b[39;49m\u001b[43m,\u001b[49m\n\u001b[0;32m      6\u001b[0m \u001b[43m                     \u001b[49m\u001b[43mcloudcoverpercentage\u001b[49m\u001b[38;5;241;43m=\u001b[39;49m\u001b[43m(\u001b[49m\u001b[38;5;241;43m0\u001b[39;49m\u001b[43m,\u001b[49m\u001b[43m \u001b[49m\u001b[38;5;241;43m30\u001b[39;49m\u001b[43m)\u001b[49m\u001b[43m)\u001b[49m\n",
      "File \u001b[1;32mc:\\Users\\virgi\\AppData\\Local\\Programs\\Python\\Python311\\Lib\\site-packages\\sentinelsat\\sentinel.py:282\u001b[0m, in \u001b[0;36mSentinelAPI.query\u001b[1;34m(self, area, date, raw, area_relation, order_by, limit, offset, **keywords)\u001b[0m\n\u001b[0;32m    274\u001b[0m \u001b[38;5;28mself\u001b[39m\u001b[38;5;241m.\u001b[39mlogger\u001b[38;5;241m.\u001b[39mdebug(\n\u001b[0;32m    275\u001b[0m     \u001b[38;5;124m\"\u001b[39m\u001b[38;5;124mRunning query: order_by=\u001b[39m\u001b[38;5;132;01m%s\u001b[39;00m\u001b[38;5;124m, limit=\u001b[39m\u001b[38;5;132;01m%s\u001b[39;00m\u001b[38;5;124m, offset=\u001b[39m\u001b[38;5;132;01m%s\u001b[39;00m\u001b[38;5;124m, query=\u001b[39m\u001b[38;5;132;01m%s\u001b[39;00m\u001b[38;5;124m\"\u001b[39m,\n\u001b[0;32m    276\u001b[0m     order_by,\n\u001b[1;32m   (...)\u001b[0m\n\u001b[0;32m    279\u001b[0m     query,\n\u001b[0;32m    280\u001b[0m )\n\u001b[0;32m    281\u001b[0m formatted_order_by \u001b[38;5;241m=\u001b[39m _format_order_by(order_by)\n\u001b[1;32m--> 282\u001b[0m response, count \u001b[38;5;241m=\u001b[39m \u001b[38;5;28;43mself\u001b[39;49m\u001b[38;5;241;43m.\u001b[39;49m\u001b[43m_load_query\u001b[49m\u001b[43m(\u001b[49m\u001b[43mquery\u001b[49m\u001b[43m,\u001b[49m\u001b[43m \u001b[49m\u001b[43mformatted_order_by\u001b[49m\u001b[43m,\u001b[49m\u001b[43m \u001b[49m\u001b[43mlimit\u001b[49m\u001b[43m,\u001b[49m\u001b[43m \u001b[49m\u001b[43moffset\u001b[49m\u001b[43m)\u001b[49m\n\u001b[0;32m    283\u001b[0m \u001b[38;5;28mself\u001b[39m\u001b[38;5;241m.\u001b[39mlogger\u001b[38;5;241m.\u001b[39minfo(\u001b[38;5;124mf\u001b[39m\u001b[38;5;124m\"\u001b[39m\u001b[38;5;124mFound \u001b[39m\u001b[38;5;132;01m{\u001b[39;00mcount\u001b[38;5;132;01m:\u001b[39;00m\u001b[38;5;124m,\u001b[39m\u001b[38;5;132;01m}\u001b[39;00m\u001b[38;5;124m products\u001b[39m\u001b[38;5;124m\"\u001b[39m)\n\u001b[0;32m    284\u001b[0m \u001b[38;5;28;01mreturn\u001b[39;00m _parse_opensearch_response(response)\n",
      "File \u001b[1;32mc:\\Users\\virgi\\AppData\\Local\\Programs\\Python\\Python311\\Lib\\site-packages\\sentinelsat\\sentinel.py:355\u001b[0m, in \u001b[0;36mSentinelAPI._load_query\u001b[1;34m(self, query, order_by, limit, offset)\u001b[0m\n\u001b[0;32m    354\u001b[0m \u001b[38;5;28;01mdef\u001b[39;00m \u001b[38;5;21m_load_query\u001b[39m(\u001b[38;5;28mself\u001b[39m, query, order_by\u001b[38;5;241m=\u001b[39m\u001b[38;5;28;01mNone\u001b[39;00m, limit\u001b[38;5;241m=\u001b[39m\u001b[38;5;28;01mNone\u001b[39;00m, offset\u001b[38;5;241m=\u001b[39m\u001b[38;5;241m0\u001b[39m):\n\u001b[1;32m--> 355\u001b[0m     products, count \u001b[38;5;241m=\u001b[39m \u001b[38;5;28;43mself\u001b[39;49m\u001b[38;5;241;43m.\u001b[39;49m\u001b[43m_load_subquery\u001b[49m\u001b[43m(\u001b[49m\u001b[43mquery\u001b[49m\u001b[43m,\u001b[49m\u001b[43m \u001b[49m\u001b[43morder_by\u001b[49m\u001b[43m,\u001b[49m\u001b[43m \u001b[49m\u001b[43mlimit\u001b[49m\u001b[43m,\u001b[49m\u001b[43m \u001b[49m\u001b[43moffset\u001b[49m\u001b[43m)\u001b[49m\n\u001b[0;32m    357\u001b[0m     \u001b[38;5;66;03m# repeat query until all results have been loaded\u001b[39;00m\n\u001b[0;32m    358\u001b[0m     max_offset \u001b[38;5;241m=\u001b[39m count\n",
      "File \u001b[1;32mc:\\Users\\virgi\\AppData\\Local\\Programs\\Python\\Python311\\Lib\\site-packages\\sentinelsat\\sentinel.py:389\u001b[0m, in \u001b[0;36mSentinelAPI._load_subquery\u001b[1;34m(self, query, order_by, limit, offset)\u001b[0m\n\u001b[0;32m    387\u001b[0m \u001b[38;5;28;01mwith\u001b[39;00m \u001b[38;5;28mself\u001b[39m\u001b[38;5;241m.\u001b[39mdl_limit_semaphore:\n\u001b[0;32m    388\u001b[0m     response \u001b[38;5;241m=\u001b[39m \u001b[38;5;28mself\u001b[39m\u001b[38;5;241m.\u001b[39msession\u001b[38;5;241m.\u001b[39mget(url, params\u001b[38;5;241m=\u001b[39m{\u001b[38;5;124m\"\u001b[39m\u001b[38;5;124mq\u001b[39m\u001b[38;5;124m\"\u001b[39m: query\u001b[38;5;241m.\u001b[39mencode(\u001b[38;5;124m\"\u001b[39m\u001b[38;5;124mlatin1\u001b[39m\u001b[38;5;124m\"\u001b[39m)})\n\u001b[1;32m--> 389\u001b[0m \u001b[38;5;28;43mself\u001b[39;49m\u001b[38;5;241;43m.\u001b[39;49m\u001b[43m_check_scihub_response\u001b[49m\u001b[43m(\u001b[49m\u001b[43mresponse\u001b[49m\u001b[43m,\u001b[49m\u001b[43m \u001b[49m\u001b[43mquery_string\u001b[49m\u001b[38;5;241;43m=\u001b[39;49m\u001b[43mquery\u001b[49m\u001b[43m)\u001b[49m\n\u001b[0;32m    391\u001b[0m \u001b[38;5;66;03m# store last status code (for testing)\u001b[39;00m\n\u001b[0;32m    392\u001b[0m \u001b[38;5;28mself\u001b[39m\u001b[38;5;241m.\u001b[39m_last_response \u001b[38;5;241m=\u001b[39m response\n",
      "File \u001b[1;32mc:\\Users\\virgi\\AppData\\Local\\Programs\\Python\\Python311\\Lib\\site-packages\\sentinelsat\\sentinel.py:1069\u001b[0m, in \u001b[0;36mSentinelAPI._check_scihub_response\u001b[1;34m(response, test_json, query_string)\u001b[0m\n\u001b[0;32m   1066\u001b[0m     \u001b[38;5;28;01mraise\u001b[39;00m InvalidKeyError(msg, response)\n\u001b[0;32m   1067\u001b[0m \u001b[38;5;28;01melif\u001b[39;00m \u001b[38;5;241m500\u001b[39m \u001b[38;5;241m<\u001b[39m\u001b[38;5;241m=\u001b[39m response\u001b[38;5;241m.\u001b[39mstatus_code \u001b[38;5;241m<\u001b[39m \u001b[38;5;241m600\u001b[39m \u001b[38;5;129;01mor\u001b[39;00m msg:\n\u001b[0;32m   1068\u001b[0m     \u001b[38;5;66;03m# 5xx: Server Error\u001b[39;00m\n\u001b[1;32m-> 1069\u001b[0m     \u001b[38;5;28;01mraise\u001b[39;00m ServerError(msg, response)\n\u001b[0;32m   1070\u001b[0m \u001b[38;5;28;01melse\u001b[39;00m:\n\u001b[0;32m   1071\u001b[0m     \u001b[38;5;28;01mraise\u001b[39;00m SentinelAPIError(msg, response)\n",
      "\u001b[1;31mServerError\u001b[0m: HTTP status 404 Not Found: \n* [News](/news)\n  * [Dashboard](/copernicus-data-space-ecosystem-dashboard)\n  * [Cases](https://dataspace.copernicus.eu/cases)\n  * [Events](/events)\n  * [Gallery](/gallery)\n  * [Videos](/videos)\n  * [About](/about)\n\n[ ](/ \"Home - Copernicus Data Space Ecosystem\")\n\n  * [Explore data](/explore-data)\n    * [Copernicus Browser](https://dataspace.copernicus.eu/browser/)\n    * [Data collections](/explore-data/data-collections)\n  * [Analyse Data](/analyse)\n    * [APIs](/analyse/apis)\n    * [Data Workspace](/analyse/data-workspace)\n    * [Traceability](/analyse/traceability)\n    * [JupyterLab](/analyse/jupyterlab)\n    * [openEO](/analyse/openeo)\n    * [Sentinel Hub](https://shapps.dataspace.copernicus.eu/dashboard/#/)\n  * [Ecosystem](/ecosystem)\n    * [Services](/ecosystem/services)\n\n  * [Support](https://helpcenter.dataspace.copernicus.eu/hc/en-gb)\n    * [Documentation portal](https://documentation.dataspace.copernicus.eu/Home.html)\n    * [FAQ](https://documentation.dataspace.copernicus.eu/FAQ.html)\n    * [User support](https://helpcenter.dataspace.copernicus.eu/hc/en-gb)\n    * [Community forum](https://forum.dataspace.copernicus.eu/)\n  * [Login](https://identity.dataspace.copernicus.eu/auth/realms/CDSE/protocol/openid-connect/auth?client_id=cdse-public&response_type=code&scope=openid&redirect_uri=https%3A//dataspace.copernicus.eu/)\n\nMenu\n\n# Page not found\n\n## Warning message\n\n**SYSTEM MESSAGE**\n\nOpenEO is experiencing issues. Our engineers are currently working hard to get\nit back online asap.\n\nThe requested page could not be found.\n\n[ ](/ \"Home - Copernicus Data Space Ecosystem\")\n\n  * ## [Explore data](/explore-data)\n\n    * [Copernicus Browser](https://dataspace.copernicus.eu/browser/)\n    * [Data collections](/explore-data/data-collections)\n  * ## [Analyse Data](/analyse)\n\n    * [APIs](/analyse/apis)\n    * [Data Workspace](/analyse/data-workspace)\n    * [Traceability](/analyse/traceability)\n    * [JupyterLab](/analyse/jupyterlab)\n    * [openEO](/analyse/openeo)\n    * [Sentinel Hub](https://shapps.dataspace.copernicus.eu/dashboard/#/)\n  * ## [Ecosystem](/ecosystem)\n\n    * [Services](/ecosystem/services)\n  * ## More\n\n    * [Support](https://helpcenter.dataspace.copernicus.eu/hc/en-gb)\n    * [Login](https://identity.dataspace.copernicus.eu/auth/realms/CDSE/protocol/openid-connect/auth?client_id=cdse-public&response_type=code&scope=openid&redirect_uri=https%3A//dataspace.copernicus.eu/)\n    * [News](/news)\n    * [Dashboard](/copernicus-data-space-ecosystem-dashboard)\n    * [Cases](https://dataspace.copernicus.eu/cases)\n    * [Events](/events)\n    * [Gallery](/gallery)\n    * [Videos](/videos)\n    * [About](/about)\n\n[Newsletter ](/webform/newsletter)\n\n**Do you have questions?**\n\nContact us via the [about page](/about#contact-form \"About\")\n\n  * [RSS](/stay-informed/RSSfeeds \"Link to RSS feed\")\n  * [YouTube](https://www.youtube.com/@copernicusdataspaceecosystem \"Visit us on YouTube\")\n  * [Twitter](https://twitter.com/CopernicusEU \"Visit us on Twitter\")\n  * [Facebook](https://www.facebook.com/CopernicusEU \"Visit us on Facebook\")\n  * [Instagram](https://www.instagram.com/copernicus_eu \"Visit us on Instagram\")\n  * [Linkedin](https://www.linkedin.com/company/copernicus-data-space-ecosystem)\n  * [Newsletter](/webform/newsletter)\n\n  * [Terms and conditions](/terms-and-conditions)\n  * [Privacy policy](/privacy-policy)\n\n[ ](/ \"Home - Copernicus Data Space Ecosystem\")\n\nClose\n\n  * ## [Explore data](/explore-data)\n\n    * [Copernicus Browser](https://dataspace.copernicus.eu/browser/)\n    * [Data collections](/explore-data/data-collections)\n  * ## [Analyse Data](/analyse)\n\n    * [APIs](/analyse/apis)\n    * [Data Workspace](/analyse/data-workspace)\n    * [Traceability](/analyse/traceability)\n    * [JupyterLab](/analyse/jupyterlab)\n    * [openEO](/analyse/openeo)\n    * [Sentinel Hub](https://shapps.dataspace.copernicus.eu/dashboard/#/)\n  * ## [Ecosystem](/ecosystem)\n\n    * [Services](/ecosystem/services)\n\n  * [News](/news)\n  * [Dashboard](/copernicus-data-space-ecosystem-dashboard)\n  * [Cases](https://dataspace.copernicus.eu/cases)\n  * [Events](/events)\n  * [Gallery](/gallery)\n  * [Videos](/videos)\n  * [About](/about)\n\n  * [Support](https://helpcenter.dataspace.copernicus.eu/hc/en-gb)\n  * [Login](https://identity.dataspace.copernicus.eu/auth/realms/CDSE/protocol/openid-connect/auth?client_id=cdse-public&response_type=code&scope=openid&redirect_uri=https%3A//dataspace.copernicus.eu/)"
     ]
    }
   ],
   "source": [
    "# Définir les paramètres de la requête\n",
    "footprint = geojson_to_wkt(read_geojson('area_of_interest.geojson'))\n",
    "products = api.query(footprint,\n",
    "                     date=('20230801', '20230831'),\n",
    "                     platformname='Sentinel-2',\n",
    "                     cloudcoverpercentage=(0, 30))"
   ]
  },
  {
   "cell_type": "code",
   "execution_count": null,
   "metadata": {},
   "outputs": [],
   "source": [
    "sapi.download_all(products, './tempdataset', nodefilter=lambda a: fnmatch.fnmatch(a['node_path'], '*_TCI_10m.jp2'))"
   ]
  }
 ],
 "metadata": {
  "kernelspec": {
   "display_name": "Python 3",
   "language": "python",
   "name": "python3"
  },
  "language_info": {
   "codemirror_mode": {
    "name": "ipython",
    "version": 3
   },
   "file_extension": ".py",
   "mimetype": "text/x-python",
   "name": "python",
   "nbconvert_exporter": "python",
   "pygments_lexer": "ipython3",
   "version": "3.11.2"
  }
 },
 "nbformat": 4,
 "nbformat_minor": 2
}
