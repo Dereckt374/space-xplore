{
 "cells": [
  {
   "cell_type": "code",
   "execution_count": 1,
   "metadata": {},
   "outputs": [
    {
     "name": "stderr",
     "output_type": "stream",
     "text": [
      "/home/vmesle/.local/lib/python3.10/site-packages/matplotlib/projections/__init__.py:63: UserWarning: Unable to import Axes3D. This may be due to multiple versions of Matplotlib being installed (e.g. as a system package and as a pip package). As a result, the 3D projection is not available.\n",
      "  warnings.warn(\"Unable to import Axes3D. This may be due to multiple versions of \"\n"
     ]
    },
    {
     "ename": "ModuleNotFoundError",
     "evalue": "No module named 'mpl_toolkits.basemap'",
     "output_type": "error",
     "traceback": [
      "\u001b[0;31m---------------------------------------------------------------------------\u001b[0m",
      "\u001b[0;31mModuleNotFoundError\u001b[0m                       Traceback (most recent call last)",
      "Cell \u001b[0;32mIn[1], line 5\u001b[0m\n\u001b[1;32m      3\u001b[0m \u001b[38;5;28;01mfrom\u001b[39;00m \u001b[38;5;21;01mdatetime\u001b[39;00m \u001b[38;5;28;01mimport\u001b[39;00m datetime, timedelta, timezone\n\u001b[1;32m      4\u001b[0m \u001b[38;5;28;01mimport\u001b[39;00m \u001b[38;5;21;01mmatplotlib\u001b[39;00m\u001b[38;5;21;01m.\u001b[39;00m\u001b[38;5;21;01mpyplot\u001b[39;00m \u001b[38;5;28;01mas\u001b[39;00m \u001b[38;5;21;01mplt\u001b[39;00m\n\u001b[0;32m----> 5\u001b[0m \u001b[38;5;28;01mfrom\u001b[39;00m \u001b[38;5;21;01mmpl_toolkits\u001b[39;00m\u001b[38;5;21;01m.\u001b[39;00m\u001b[38;5;21;01mbasemap\u001b[39;00m \u001b[38;5;28;01mimport\u001b[39;00m Basemap\n\u001b[1;32m      7\u001b[0m \u001b[38;5;66;03m# Charger les éphémérides et les TLE\u001b[39;00m\n\u001b[1;32m      8\u001b[0m ts \u001b[38;5;241m=\u001b[39m load\u001b[38;5;241m.\u001b[39mtimescale()\n",
      "\u001b[0;31mModuleNotFoundError\u001b[0m: No module named 'mpl_toolkits.basemap'"
     ]
    }
   ],
   "source": [
    "import numpy as np\n",
    "from skyfield.api import Topos, load\n",
    "from datetime import datetime, timedelta, timezone\n",
    "import matplotlib.pyplot as plt\n",
    "from mpl_toolkits.basemap import Basemap\n",
    "\n",
    "# Charger les éphémérides et les TLE\n",
    "ts = load.timescale()\n",
    "t0 = datetime.now(timezone.utc)\n",
    "\n",
    "satellites = load.tle_file(\"https://celestrak.org/NORAD/elements/stations.txt\")\n",
    "satellite = satellites[0]  # Exemple avec le premier satellite trouvé\n",
    "\n",
    "# Calcul des positions sur 90 minutes (1.5 heure) toutes les 10 secondes\n",
    "n_points = 540\n",
    "times = [t0 + timedelta(seconds=10 * i) for i in range(n_points)]\n",
    "ts_times = ts.utc([t.year for t in times], [t.month for t in times], [t.day for t in times],\n",
    "                 [t.hour for t in times], [t.minute for t in times], [t.second for t in times])\n",
    "\n",
    "# Récupération des coordonnées géographiques\n",
    "lats, lons = [], []\n",
    "\n",
    "for t in ts_times:\n",
    "    geocentric = satellite.at(t)\n",
    "    subpoint = geocentric.subpoint()\n",
    "    lats.append(subpoint.latitude.degrees)\n",
    "    lons.append(subpoint.longitude.degrees)\n",
    "\n",
    "# Tracé de la trace au sol\n",
    "plt.figure(figsize=(10, 5))\n",
    "\n",
    "m = Basemap(projection='mill', lat_0=0, lon_0=0)\n",
    "m.drawcoastlines()\n",
    "m.drawcountries()\n",
    "m.drawparallels(np.arange(-90., 91., 30.), labels=[1, 0, 0, 0])\n",
    "m.drawmeridians(np.arange(-180., 181., 60.), labels=[0, 0, 0, 1])\n",
    "\n",
    "x, y = m(lons, lats)\n",
    "m.plot(x, y, marker=None, color='red', linewidth=2, label='Trace au sol')\n",
    "\n",
    "plt.title(f\"Trace au sol du satellite : {satellite.name}\")\n",
    "plt.legend()\n",
    "plt.show()\n"
   ]
  }
 ],
 "metadata": {
  "kernelspec": {
   "display_name": "Python 3",
   "language": "python",
   "name": "python3"
  },
  "language_info": {
   "codemirror_mode": {
    "name": "ipython",
    "version": 3
   },
   "file_extension": ".py",
   "mimetype": "text/x-python",
   "name": "python",
   "nbconvert_exporter": "python",
   "pygments_lexer": "ipython3",
   "version": "3.10.12"
  }
 },
 "nbformat": 4,
 "nbformat_minor": 2
}
