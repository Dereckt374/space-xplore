{
 "cells": [
  {
   "cell_type": "code",
   "execution_count": 157,
   "metadata": {},
   "outputs": [],
   "source": [
    "import skyfield\n",
    "from skyfield.api import EarthSatellite\n",
    "from skyfield.api import load, wgs84"
   ]
  },
  {
   "cell_type": "markdown",
   "metadata": {},
   "source": [
    "#### Load TLE from web"
   ]
  },
  {
   "cell_type": "code",
   "execution_count": 158,
   "metadata": {},
   "outputs": [
    {
     "name": "stdout",
     "output_type": "stream",
     "text": [
      "Loaded 31 satellites\n"
     ]
    }
   ],
   "source": [
    "stations_url = 'http://celestrak.org/NORAD/elements/stations.txt'\n",
    "satellites = load.tle_file(stations_url)\n",
    "print('Loaded', len(satellites), 'satellites')"
   ]
  },
  {
   "cell_type": "code",
   "execution_count": 159,
   "metadata": {},
   "outputs": [
    {
     "data": {
      "text/plain": [
       "[<EarthSatellite ISS (ZARYA) catalog #25544 epoch 2023-10-27 12:21:52 UTC>,\n",
       " <EarthSatellite ISS DEB catalog #47853 epoch 2023-10-27 02:47:28 UTC>,\n",
       " <EarthSatellite CSS (TIANHE) catalog #48274 epoch 2023-10-26 12:23:31 UTC>,\n",
       " <EarthSatellite ISS (NAUKA) catalog #49044 epoch 2023-10-26 13:03:10 UTC>,\n",
       " <EarthSatellite FREGAT DEB catalog #49271 epoch 2023-10-27 04:30:37 UTC>]"
      ]
     },
     "execution_count": 159,
     "metadata": {},
     "output_type": "execute_result"
    }
   ],
   "source": [
    "satellites[:5]"
   ]
  },
  {
   "cell_type": "code",
   "execution_count": 160,
   "metadata": {},
   "outputs": [
    {
     "name": "stdout",
     "output_type": "stream",
     "text": [
      "CREW DRAGON 7 catalog #57697 epoch 2023-10-26 13:03:10 UTC\n"
     ]
    }
   ],
   "source": [
    "by_name = {sat.name: sat for sat in satellites}\n",
    "satellite = by_name['CREW DRAGON 7']\n",
    "print(satellite)"
   ]
  },
  {
   "cell_type": "markdown",
   "metadata": {},
   "source": [
    "#### Performing a TLE query, from API\n",
    "\n",
    "For the implementation API, see : https://celestrak.org/NORAD/documentation/gp-data-formats.php"
   ]
  },
  {
   "cell_type": "code",
   "execution_count": 161,
   "metadata": {},
   "outputs": [],
   "source": [
    "number = 25544\n",
    "url = \"https://celestrak.org/NORAD/elements/gp.php?CATNR={number}&FORMAT=TLE\"\n",
    "#url = 'https://live.ariss.org/iss.txt'"
   ]
  },
  {
   "cell_type": "code",
   "execution_count": 162,
   "metadata": {},
   "outputs": [
    {
     "name": "stderr",
     "output_type": "stream",
     "text": [
      "[#################################] 100% gp.php\n"
     ]
    },
    {
     "name": "stdout",
     "output_type": "stream",
     "text": [
      "[]\n"
     ]
    }
   ],
   "source": [
    "satellite = load.tle_file(url, reload=True)\n",
    "print(satellite)"
   ]
  },
  {
   "cell_type": "markdown",
   "metadata": {},
   "source": [
    "#### Set a manual TLE \n",
    "ISS (ZARYA)  \n",
    "1 25544U 98067A   23300.38648537  .00013263  00000-0  24257-3 0  9990  \n",
    "2 25544  51.6409  33.7238 0000691 101.2259  16.5521 15.49691000422293  "
   ]
  },
  {
   "cell_type": "markdown",
   "metadata": {},
   "source": [
    "##### Time"
   ]
  },
  {
   "cell_type": "code",
   "execution_count": 163,
   "metadata": {},
   "outputs": [],
   "source": [
    "import datetime\n",
    "from datetime import timedelta\n",
    "\n",
    "ts = api.load.timescale()"
   ]
  },
  {
   "cell_type": "code",
   "execution_count": 164,
   "metadata": {},
   "outputs": [
    {
     "data": {
      "text/plain": [
       "<Time tt=2460245.365384074>"
      ]
     },
     "execution_count": 164,
     "metadata": {},
     "output_type": "execute_result"
    }
   ],
   "source": [
    "ts = load.timescale()\n",
    "ts.now() ## get the now date\n",
    "# ts.from_datetime(dt) ## From datetime python object\n",
    "ts.utc(2023, month=10, day=27, hour=20, minute=45, second=0.0)"
   ]
  },
  {
   "cell_type": "code",
   "execution_count": 165,
   "metadata": {},
   "outputs": [
    {
     "name": "stdout",
     "output_type": "stream",
     "text": [
      "ISS (ZARYA) catalog #25544 epoch 2023-10-27 09:16:32 UTC\n"
     ]
    }
   ],
   "source": [
    "line1 = '1 25544U 98067A   23300.38648537  .00013263  00000-0  24257-3 0  9990'\n",
    "line2 = '2 25544  51.6409  33.7238 0000691 101.2259  16.5521 15.49691000422293'\n",
    "satellite = EarthSatellite(line1, line2, 'ISS (ZARYA)')\n",
    "print(satellite)"
   ]
  },
  {
   "cell_type": "markdown",
   "metadata": {},
   "source": [
    "#### Localisation CSUM"
   ]
  },
  {
   "cell_type": "code",
   "execution_count": 166,
   "metadata": {},
   "outputs": [],
   "source": [
    "csum = wgs84.latlon(43.637, 3.843)\n",
    "t0 = ts.utc(2023, 10, 28)\n",
    "t1 = ts.utc(2023, 10, 29)\n",
    "elev_min = 10"
   ]
  },
  {
   "cell_type": "code",
   "execution_count": 167,
   "metadata": {},
   "outputs": [],
   "source": [
    "t, events = satellite.find_events(csum, t0, t1, altitude_degrees=elev_min)"
   ]
  },
  {
   "cell_type": "code",
   "execution_count": 168,
   "metadata": {},
   "outputs": [],
   "source": [
    "event_names = [f'rise above {elev_min}', 'culminate', f'set below {elev_min}']"
   ]
  },
  {
   "cell_type": "code",
   "execution_count": 169,
   "metadata": {},
   "outputs": [
    {
     "name": "stdout",
     "output_type": "stream",
     "text": [
      "2023 Oct 28 01:58:58 rise above 10\n",
      "2023 Oct 28 02:02:11 culminate\n",
      "2023 Oct 28 02:05:25 set below 10\n",
      "2023 Oct 28 03:35:56 rise above 10\n",
      "2023 Oct 28 03:39:02 culminate\n",
      "2023 Oct 28 03:42:08 set below 10\n",
      "2023 Oct 28 05:13:54 rise above 10\n",
      "2023 Oct 28 05:16:29 culminate\n",
      "2023 Oct 28 05:19:05 set below 10\n",
      "2023 Oct 28 06:50:52 rise above 10\n",
      "2023 Oct 28 06:53:57 culminate\n",
      "2023 Oct 28 06:57:02 set below 10\n",
      "2023 Oct 28 08:27:34 rise above 10\n",
      "2023 Oct 28 08:30:49 culminate\n",
      "2023 Oct 28 08:34:05 set below 10\n"
     ]
    }
   ],
   "source": [
    "for ti, event in zip(t, events):\n",
    "    name = event_names[event]\n",
    "    print(ti.utc_strftime('%Y %b %d %H:%M:%S'), name)"
   ]
  },
  {
   "cell_type": "code",
   "execution_count": 170,
   "metadata": {},
   "outputs": [],
   "source": [
    "eph = load('de421.bsp')\n",
    "sunlit = satellite.at(t).is_sunlit(eph)"
   ]
  },
  {
   "cell_type": "code",
   "execution_count": 171,
   "metadata": {},
   "outputs": [
    {
     "name": "stdout",
     "output_type": "stream",
     "text": [
      "2023 Oct 28 01:58:58   rise above 10   in shadow\n",
      "2023 Oct 28 02:02:11   culminate       in shadow\n",
      "2023 Oct 28 02:05:25   set below 10    in shadow\n",
      "2023 Oct 28 03:35:56   rise above 10   in shadow\n",
      "2023 Oct 28 03:39:02   culminate       in shadow\n",
      "2023 Oct 28 03:42:08   set below 10    in sunlight\n",
      "2023 Oct 28 05:13:54   rise above 10   in shadow\n",
      "2023 Oct 28 05:16:29   culminate       in sunlight\n",
      "2023 Oct 28 05:19:05   set below 10    in sunlight\n",
      "2023 Oct 28 06:50:52   rise above 10   in sunlight\n",
      "2023 Oct 28 06:53:57   culminate       in sunlight\n",
      "2023 Oct 28 06:57:02   set below 10    in sunlight\n",
      "2023 Oct 28 08:27:34   rise above 10   in sunlight\n",
      "2023 Oct 28 08:30:49   culminate       in sunlight\n",
      "2023 Oct 28 08:34:05   set below 10    in sunlight\n"
     ]
    }
   ],
   "source": [
    "for ti, event, sunlit_flag in zip(t, events, sunlit):\n",
    "    name = event_names[event]\n",
    "    if sunlit_flag : state = 'in sunlight'\n",
    "    else : state = 'in shadow'  \n",
    "    print('{:22} {:15} {}'.format(\n",
    "        ti.utc_strftime('%Y %b %d %H:%M:%S'), name, state,\n",
    "    ))"
   ]
  },
  {
   "cell_type": "markdown",
   "metadata": {},
   "source": [
    "#### Position"
   ]
  },
  {
   "cell_type": "code",
   "execution_count": 172,
   "metadata": {},
   "outputs": [
    {
     "name": "stdout",
     "output_type": "stream",
     "text": [
      "[[ 2784.71984712  1510.82113581   156.44512326  1167.32715267\n",
      "   -137.8606713  -1440.13026639  -956.73559458 -2024.6195683\n",
      "  -3030.41679469 -2602.95716145 -3732.42840315 -4696.81729413\n",
      "  -3972.95912125 -4943.85810975 -5676.74121804]\n",
      " [ 4977.4492124   4918.45251482  4624.6984292   4853.86813886\n",
      "   4524.5012979   3995.76021122  4211.2384183   3689.8572412\n",
      "   3055.06343545  3346.37507538  2519.1420446   1585.61092746\n",
      "   2320.81107355  1314.38769406   242.65548789]\n",
      " [ 3686.54635155  4430.41519219  4967.52627112  4601.6621594\n",
      "   5059.25290708  5295.25273116  5237.503587    5325.84813382\n",
      "   5250.11646014  5301.47394051  5080.12243899  4639.12039345\n",
      "   4991.62461505  4464.36200358  3719.29866427]]\n"
     ]
    }
   ],
   "source": [
    "#t = ts.now()\n",
    "\n",
    "geocentric = satellite.at(t)\n",
    "print(geocentric.position.km)"
   ]
  },
  {
   "cell_type": "code",
   "execution_count": 173,
   "metadata": {},
   "outputs": [],
   "source": [
    "difference = satellite - csum"
   ]
  },
  {
   "cell_type": "code",
   "execution_count": 174,
   "metadata": {},
   "outputs": [
    {
     "name": "stdout",
     "output_type": "stream",
     "text": [
      "[[ 1151.46178541   -61.34783199 -1353.90881939  1460.13343461\n",
      "    217.43823153 -1022.25402253  1225.92832298   204.11130608\n",
      "   -755.90268033  1060.86587474   -31.02020639  -958.6209192\n",
      "    519.35383363  -437.02977384 -1156.29298732]\n",
      " [  648.19740358   566.7842966    251.33289756   240.2413747\n",
      "    -84.59738127  -607.94980142   140.73088189  -355.49513892\n",
      "   -964.60969469   539.3838417   -237.95838584 -1121.26100038\n",
      "   1269.78206064   327.61362792  -679.55788599]\n",
      " [ -688.54734713    55.1818901    592.15167149   222.15184947\n",
      "    679.59880569   915.45461288   853.63034391   941.86811531\n",
      "    866.03029961   914.15141236   692.71174817   251.6233597\n",
      "    602.33534208    75.03707992  -670.05986276]]\n"
     ]
    }
   ],
   "source": [
    "topocentric = difference.at(t)\n",
    "print(topocentric.position.km)"
   ]
  },
  {
   "cell_type": "code",
   "execution_count": 175,
   "metadata": {},
   "outputs": [
    {
     "ename": "ValueError",
     "evalue": "The truth value of an array with more than one element is ambiguous. Use a.any() or a.all()",
     "output_type": "error",
     "traceback": [
      "\u001b[1;31m---------------------------------------------------------------------------\u001b[0m",
      "\u001b[1;31mValueError\u001b[0m                                Traceback (most recent call last)",
      "\u001b[1;32m~\\AppData\\Local\\Temp\\ipykernel_23240\\4145018236.py\u001b[0m in \u001b[0;36m<cell line: 3>\u001b[1;34m()\u001b[0m\n\u001b[0;32m      1\u001b[0m \u001b[0malt\u001b[0m\u001b[1;33m,\u001b[0m \u001b[0maz\u001b[0m\u001b[1;33m,\u001b[0m \u001b[0mdistance\u001b[0m \u001b[1;33m=\u001b[0m \u001b[0mtopocentric\u001b[0m\u001b[1;33m.\u001b[0m\u001b[0maltaz\u001b[0m\u001b[1;33m(\u001b[0m\u001b[1;33m)\u001b[0m\u001b[1;33m\u001b[0m\u001b[1;33m\u001b[0m\u001b[0m\n\u001b[0;32m      2\u001b[0m \u001b[1;33m\u001b[0m\u001b[0m\n\u001b[1;32m----> 3\u001b[1;33m \u001b[1;32mif\u001b[0m \u001b[0malt\u001b[0m\u001b[1;33m.\u001b[0m\u001b[0mdegrees\u001b[0m \u001b[1;33m>\u001b[0m \u001b[1;36m0\u001b[0m\u001b[1;33m:\u001b[0m\u001b[1;33m\u001b[0m\u001b[1;33m\u001b[0m\u001b[0m\n\u001b[0m\u001b[0;32m      4\u001b[0m     \u001b[0mprint\u001b[0m\u001b[1;33m(\u001b[0m\u001b[1;34m'The ISS is above the horizon'\u001b[0m\u001b[1;33m)\u001b[0m\u001b[1;33m\u001b[0m\u001b[1;33m\u001b[0m\u001b[0m\n\u001b[0;32m      5\u001b[0m \u001b[1;33m\u001b[0m\u001b[0m\n",
      "\u001b[1;31mValueError\u001b[0m: The truth value of an array with more than one element is ambiguous. Use a.any() or a.all()"
     ]
    }
   ],
   "source": [
    "alt, az, distance = topocentric.altaz()\n",
    "\n",
    "if alt.degrees > 0:\n",
    "    print('The ISS is above the horizon')\n",
    "\n",
    "print('Altitude:', alt)\n",
    "print('Azimuth:', az)\n",
    "print('Distance: {:.1f} km'.format(distance.km))"
   ]
  },
  {
   "cell_type": "code",
   "execution_count": null,
   "metadata": {},
   "outputs": [
    {
     "ename": "TypeError",
     "evalue": "this is a single Time, not an array",
     "output_type": "error",
     "traceback": [
      "\u001b[1;31m---------------------------------------------------------------------------\u001b[0m",
      "\u001b[1;31mTypeError\u001b[0m                                 Traceback (most recent call last)",
      "\u001b[1;32m~\\AppData\\Local\\Temp\\ipykernel_23240\\3717803092.py\u001b[0m in \u001b[0;36m<cell line: 1>\u001b[1;34m()\u001b[0m\n\u001b[1;32m----> 1\u001b[1;33m \u001b[1;32mfor\u001b[0m \u001b[0mti\u001b[0m\u001b[1;33m,\u001b[0m \u001b[0mevent\u001b[0m\u001b[1;33m,\u001b[0m \u001b[0msunlit_flag\u001b[0m \u001b[1;32min\u001b[0m \u001b[0mzip\u001b[0m\u001b[1;33m(\u001b[0m\u001b[0mt\u001b[0m\u001b[1;33m,\u001b[0m \u001b[0mevents\u001b[0m\u001b[1;33m,\u001b[0m \u001b[0msunlit\u001b[0m\u001b[1;33m)\u001b[0m\u001b[1;33m:\u001b[0m\u001b[1;33m\u001b[0m\u001b[1;33m\u001b[0m\u001b[0m\n\u001b[0m\u001b[0;32m      2\u001b[0m     \u001b[0mname\u001b[0m \u001b[1;33m=\u001b[0m \u001b[0mevent_names\u001b[0m\u001b[1;33m[\u001b[0m\u001b[0mevent\u001b[0m\u001b[1;33m]\u001b[0m\u001b[1;33m\u001b[0m\u001b[1;33m\u001b[0m\u001b[0m\n\u001b[0;32m      3\u001b[0m     \u001b[1;32mif\u001b[0m \u001b[0msunlit_flag\u001b[0m \u001b[1;33m:\u001b[0m \u001b[0mstate\u001b[0m \u001b[1;33m=\u001b[0m \u001b[1;34m'in sunlight'\u001b[0m\u001b[1;33m\u001b[0m\u001b[1;33m\u001b[0m\u001b[0m\n\u001b[0;32m      4\u001b[0m     \u001b[1;32melse\u001b[0m \u001b[1;33m:\u001b[0m \u001b[0mstate\u001b[0m \u001b[1;33m=\u001b[0m \u001b[1;34m'in shadow'\u001b[0m\u001b[1;33m\u001b[0m\u001b[1;33m\u001b[0m\u001b[0m\n\u001b[0;32m      5\u001b[0m \u001b[1;33m\u001b[0m\u001b[0m\n",
      "\u001b[1;32mc:\\Users\\Virgil MESLE\\AppData\\Local\\Programs\\Python\\Python310\\lib\\site-packages\\skyfield\\timelib.py\u001b[0m in \u001b[0;36m__getitem__\u001b[1;34m(self, index)\u001b[0m\n\u001b[0;32m    435\u001b[0m     \u001b[1;32mdef\u001b[0m \u001b[0m__getitem__\u001b[0m\u001b[1;33m(\u001b[0m\u001b[0mself\u001b[0m\u001b[1;33m,\u001b[0m \u001b[0mindex\u001b[0m\u001b[1;33m)\u001b[0m\u001b[1;33m:\u001b[0m\u001b[1;33m\u001b[0m\u001b[1;33m\u001b[0m\u001b[0m\n\u001b[0;32m    436\u001b[0m         \u001b[1;32mif\u001b[0m \u001b[0mself\u001b[0m\u001b[1;33m.\u001b[0m\u001b[0mshape\u001b[0m \u001b[1;32mis\u001b[0m \u001b[0m_EMPTY_TUPLE\u001b[0m\u001b[1;33m:\u001b[0m\u001b[1;33m\u001b[0m\u001b[1;33m\u001b[0m\u001b[0m\n\u001b[1;32m--> 437\u001b[1;33m             \u001b[1;32mraise\u001b[0m \u001b[0mTypeError\u001b[0m\u001b[1;33m(\u001b[0m\u001b[1;34m'this is a single Time, not an array'\u001b[0m\u001b[1;33m)\u001b[0m\u001b[1;33m\u001b[0m\u001b[1;33m\u001b[0m\u001b[0m\n\u001b[0m\u001b[0;32m    438\u001b[0m         \u001b[1;31m# TODO: also copy cached matrices?\u001b[0m\u001b[1;33m\u001b[0m\u001b[1;33m\u001b[0m\u001b[0m\n\u001b[0;32m    439\u001b[0m         \u001b[0mt\u001b[0m \u001b[1;33m=\u001b[0m \u001b[0mTime\u001b[0m\u001b[1;33m(\u001b[0m\u001b[0mself\u001b[0m\u001b[1;33m.\u001b[0m\u001b[0mts\u001b[0m\u001b[1;33m,\u001b[0m \u001b[0mself\u001b[0m\u001b[1;33m.\u001b[0m\u001b[0mwhole\u001b[0m\u001b[1;33m[\u001b[0m\u001b[0mindex\u001b[0m\u001b[1;33m]\u001b[0m\u001b[1;33m,\u001b[0m \u001b[0mself\u001b[0m\u001b[1;33m.\u001b[0m\u001b[0mtt_fraction\u001b[0m\u001b[1;33m[\u001b[0m\u001b[0mindex\u001b[0m\u001b[1;33m]\u001b[0m\u001b[1;33m)\u001b[0m\u001b[1;33m\u001b[0m\u001b[1;33m\u001b[0m\u001b[0m\n",
      "\u001b[1;31mTypeError\u001b[0m: this is a single Time, not an array"
     ]
    }
   ],
   "source": [
    "for ti, event, sunlit_flag in zip(t, events, sunlit):\n",
    "    name = event_names[event]\n",
    "    if sunlit_flag : state = 'in sunlight'\n",
    "    else : state = 'in shadow'  \n",
    "\n",
    "    if name == 'culminate' :\n",
    "        difference = satellite - csum\n",
    "        topocentric = difference.at(ti)\n",
    "        alt, az, distance = topocentric.altaz()\n",
    "        \n",
    "        print('{:25} {:15} {:15} {}'.format(\n",
    "            ti.utc_strftime('%Y %b %d %H:%M:%S'), name, state, alt\n",
    "        ))\n",
    "    else : \n",
    "        print('{:25} {:15} {:15}'.format(\n",
    "            ti.utc_strftime('%Y %b %d %H:%M:%S'), name, state, \n",
    "        ))"
   ]
  },
  {
   "cell_type": "code",
   "execution_count": null,
   "metadata": {},
   "outputs": [],
   "source": [
    "geocentric = satellite.at(t)"
   ]
  },
  {
   "cell_type": "code",
   "execution_count": null,
   "metadata": {},
   "outputs": [],
   "source": []
  }
 ],
 "metadata": {
  "kernelspec": {
   "display_name": "Python 3",
   "language": "python",
   "name": "python3"
  },
  "language_info": {
   "codemirror_mode": {
    "name": "ipython",
    "version": 3
   },
   "file_extension": ".py",
   "mimetype": "text/x-python",
   "name": "python",
   "nbconvert_exporter": "python",
   "pygments_lexer": "ipython3",
   "version": "3.10.0"
  }
 },
 "nbformat": 4,
 "nbformat_minor": 2
}
