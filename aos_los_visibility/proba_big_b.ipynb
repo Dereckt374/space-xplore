{
 "cells": [
  {
   "cell_type": "code",
   "execution_count": 15,
   "metadata": {},
   "outputs": [],
   "source": [
    "import sys\n",
    "import os\n",
    "import pandas as pd\n",
    "from skyfield.api import Topos, load\n",
    "from datetime import datetime, timezone\n",
    "sys.path.append(os.path.abspath(os.path.join(os.getcwd(), '..')))\n",
    "import fct_space "
   ]
  },
  {
   "cell_type": "markdown",
   "metadata": {},
   "source": [
    "## Step 1 : TLE generation"
   ]
  },
  {
   "cell_type": "code",
   "execution_count": 16,
   "metadata": {},
   "outputs": [],
   "source": [
    "raan = 120.0  # RAAN en degrés\n",
    "inclination = 97.5  # Inclinaison en degrés\n",
    "altitude = 500.0  # Altitude en km\n",
    "date_time = datetime(2024, 1, 1, 0, 0, 0)  # Date/Time (UTC)\n",
    "\n",
    "# --- other params\n",
    "arg_perigee = 0 # Argument du périgée en degrés\n",
    "sma = fct_space.Rt + altitude  # Semi-major axis en km pour une orbite basse\n",
    "eccentricity = 0.0  # Excentricité (typique pour cubesat en LEO)\n",
    "\n",
    "# Générer TLEb\n",
    "\n",
    "tle_line_1, tle_line_2 = fct_space.generate_tle(\n",
    "    raan, inclination, arg_perigee, sma, eccentricity, date_time\n",
    ")"
   ]
  },
  {
   "cell_type": "markdown",
   "metadata": {},
   "source": [
    "## Step 2 : Gather launch date"
   ]
  },
  {
   "cell_type": "code",
   "execution_count": 17,
   "metadata": {},
   "outputs": [],
   "source": [
    "link = 'https://destination-orbite.net/astronautique/lancements/recapitulatif/lancements-orbitaux-2024'"
   ]
  },
  {
   "cell_type": "code",
   "execution_count": 18,
   "metadata": {},
   "outputs": [],
   "source": [
    "data=pd.read_html(link)\n",
    "df = data[0]"
   ]
  },
  {
   "cell_type": "code",
   "execution_count": 19,
   "metadata": {},
   "outputs": [
    {
     "name": "stderr",
     "output_type": "stream",
     "text": [
      "/tmp/ipykernel_45489/633402201.py:1: FutureWarning:\n",
      "\n",
      "'S' is deprecated and will be removed in a future version, please use 's' instead.\n",
      "\n"
     ]
    }
   ],
   "source": [
    "df['DATE HEURE'] = pd.to_datetime(df['DATE HEURE'], format='mixed').dt.tz_localize(None).dt.floor('S')\n",
    "df = df.set_index('DATE HEURE').sort_index()"
   ]
  },
  {
   "cell_type": "markdown",
   "metadata": {},
   "source": [
    "## Step 3 : Test on a special launch site"
   ]
  },
  {
   "cell_type": "code",
   "execution_count": 20,
   "metadata": {},
   "outputs": [
    {
     "data": {
      "application/vnd.plotly.v1+json": {
       "config": {
        "plotlyServerURL": "https://plot.ly"
       },
       "data": [
        {
         "histfunc": "count",
         "type": "histogram",
         "x": [
          "Xichang Space Center LC-2",
          "Wenchang Space Launch Center LC-201",
          "Jiuquan Space Center LP-43/130",
          "Xichang Space Center LC-3",
          "Xichang Space Center LC-3",
          "Wenchang Space Launch Center LC-101",
          "Xichang Space Center LC-2",
          "Mer Jaune Bo Run Jiu Zhou",
          "Wenchang Space Launch Center LC-101",
          "Xichang Space Center LC-3",
          "Xichang Space Center LC-3",
          "Xichang Space Center LC-3",
          "Wenchang Space Launch Center LC-201",
          "Jiuquan Space Center LC-43/94",
          "Taiyuan Satellite Launch Center LC-9A",
          "Taiyuan Satellite Launch Center LC-9A",
          "Xichang Space Center",
          "Jiuquan Space Center LC-43/94",
          "Xichang Space Center LC-3",
          "Jiuquan Space Center LC-43/91",
          "Jiuquan Space Center LP-43/95A",
          "Taiyuan Satellite Launch Center LC-16",
          "Taiyuan Satellite Launch Center LC-9",
          "Taiyuan Satellite Launch Center LC-9",
          "Jiuquan Space Center LC-43/95",
          "Mer Jaune Dongfeng Hangtiangang",
          "Xichang Space Center LC-2",
          "Jiuquan Space Center LC-43/95A",
          "Jiuquan Space Center LC-43/95A",
          "Taiyuan Satellite Launch Center LC-9A",
          "Xichang Space Center LC-3",
          "Wenchang Space Launch Center LC-201",
          "Taiyuan Satellite Launch Center LC-9A",
          "Taiyuan Satellite Launch Center LC-9",
          "Xichang Space Center LC-3",
          "Wenchang Space Launch Center LC-201",
          "Mer Jaune Dongfeng Hangtiangang",
          "Jiuquan Space Center LC-3",
          "Xichang Space Center LC-2",
          "Jiuquan Space Center LC-43/94",
          "Xichang Space Center LC-2",
          "Taiyuan Satellite Launch Center LC-9",
          "Xichang Space Center",
          "Mer Jaune Dongfang Hangtiangang",
          "Jiuquan Space Center LP-43/130",
          "Jiuquan Space Center LC-43/94",
          "Jiuquan Space Center LC-43/95B",
          "Xichang Space Center LC-2",
          "Taiyuan Satellite Launch Center LC-9A",
          "Jiuquan Space Center LC-43/94",
          "Taiyuan Satellite Launch Center LC-16",
          "Xichang Space Center LC-3",
          "Jiuquan Space Center LC-43/91",
          "Jiuquan Space Center LP-43/95A",
          "Mer Jaune Dong Fang Hang Tian Gang",
          "Jiuquan Space Center LC-43/94",
          "Jiuquan Space Center LP-43/130",
          "Jiuquan Space Center LC-43/94",
          "Wenchang Space Launch Center LC-201",
          "Jiuquan Space Center SLS-2",
          "Jiuquan Space Center LC-43/96",
          "Wenchang Space Launch Center LC-2",
          "Jiuquan Space Center SLS-2",
          "Wenchang Space Launch Center LC-101",
          "Taiyuan Satellite Launch Center LC-9",
          "Mer Jaune Dongfeng Hangtiangang",
          "Xichang Space Center LC-2",
          "Jiuquan Space Center LP-43/130"
         ]
        }
       ],
       "layout": {
        "template": {
         "data": {
          "bar": [
           {
            "error_x": {
             "color": "#2a3f5f"
            },
            "error_y": {
             "color": "#2a3f5f"
            },
            "marker": {
             "line": {
              "color": "#E5ECF6",
              "width": 0.5
             },
             "pattern": {
              "fillmode": "overlay",
              "size": 10,
              "solidity": 0.2
             }
            },
            "type": "bar"
           }
          ],
          "barpolar": [
           {
            "marker": {
             "line": {
              "color": "#E5ECF6",
              "width": 0.5
             },
             "pattern": {
              "fillmode": "overlay",
              "size": 10,
              "solidity": 0.2
             }
            },
            "type": "barpolar"
           }
          ],
          "carpet": [
           {
            "aaxis": {
             "endlinecolor": "#2a3f5f",
             "gridcolor": "white",
             "linecolor": "white",
             "minorgridcolor": "white",
             "startlinecolor": "#2a3f5f"
            },
            "baxis": {
             "endlinecolor": "#2a3f5f",
             "gridcolor": "white",
             "linecolor": "white",
             "minorgridcolor": "white",
             "startlinecolor": "#2a3f5f"
            },
            "type": "carpet"
           }
          ],
          "choropleth": [
           {
            "colorbar": {
             "outlinewidth": 0,
             "ticks": ""
            },
            "type": "choropleth"
           }
          ],
          "contour": [
           {
            "colorbar": {
             "outlinewidth": 0,
             "ticks": ""
            },
            "colorscale": [
             [
              0,
              "#0d0887"
             ],
             [
              0.1111111111111111,
              "#46039f"
             ],
             [
              0.2222222222222222,
              "#7201a8"
             ],
             [
              0.3333333333333333,
              "#9c179e"
             ],
             [
              0.4444444444444444,
              "#bd3786"
             ],
             [
              0.5555555555555556,
              "#d8576b"
             ],
             [
              0.6666666666666666,
              "#ed7953"
             ],
             [
              0.7777777777777778,
              "#fb9f3a"
             ],
             [
              0.8888888888888888,
              "#fdca26"
             ],
             [
              1,
              "#f0f921"
             ]
            ],
            "type": "contour"
           }
          ],
          "contourcarpet": [
           {
            "colorbar": {
             "outlinewidth": 0,
             "ticks": ""
            },
            "type": "contourcarpet"
           }
          ],
          "heatmap": [
           {
            "colorbar": {
             "outlinewidth": 0,
             "ticks": ""
            },
            "colorscale": [
             [
              0,
              "#0d0887"
             ],
             [
              0.1111111111111111,
              "#46039f"
             ],
             [
              0.2222222222222222,
              "#7201a8"
             ],
             [
              0.3333333333333333,
              "#9c179e"
             ],
             [
              0.4444444444444444,
              "#bd3786"
             ],
             [
              0.5555555555555556,
              "#d8576b"
             ],
             [
              0.6666666666666666,
              "#ed7953"
             ],
             [
              0.7777777777777778,
              "#fb9f3a"
             ],
             [
              0.8888888888888888,
              "#fdca26"
             ],
             [
              1,
              "#f0f921"
             ]
            ],
            "type": "heatmap"
           }
          ],
          "heatmapgl": [
           {
            "colorbar": {
             "outlinewidth": 0,
             "ticks": ""
            },
            "colorscale": [
             [
              0,
              "#0d0887"
             ],
             [
              0.1111111111111111,
              "#46039f"
             ],
             [
              0.2222222222222222,
              "#7201a8"
             ],
             [
              0.3333333333333333,
              "#9c179e"
             ],
             [
              0.4444444444444444,
              "#bd3786"
             ],
             [
              0.5555555555555556,
              "#d8576b"
             ],
             [
              0.6666666666666666,
              "#ed7953"
             ],
             [
              0.7777777777777778,
              "#fb9f3a"
             ],
             [
              0.8888888888888888,
              "#fdca26"
             ],
             [
              1,
              "#f0f921"
             ]
            ],
            "type": "heatmapgl"
           }
          ],
          "histogram": [
           {
            "marker": {
             "pattern": {
              "fillmode": "overlay",
              "size": 10,
              "solidity": 0.2
             }
            },
            "type": "histogram"
           }
          ],
          "histogram2d": [
           {
            "colorbar": {
             "outlinewidth": 0,
             "ticks": ""
            },
            "colorscale": [
             [
              0,
              "#0d0887"
             ],
             [
              0.1111111111111111,
              "#46039f"
             ],
             [
              0.2222222222222222,
              "#7201a8"
             ],
             [
              0.3333333333333333,
              "#9c179e"
             ],
             [
              0.4444444444444444,
              "#bd3786"
             ],
             [
              0.5555555555555556,
              "#d8576b"
             ],
             [
              0.6666666666666666,
              "#ed7953"
             ],
             [
              0.7777777777777778,
              "#fb9f3a"
             ],
             [
              0.8888888888888888,
              "#fdca26"
             ],
             [
              1,
              "#f0f921"
             ]
            ],
            "type": "histogram2d"
           }
          ],
          "histogram2dcontour": [
           {
            "colorbar": {
             "outlinewidth": 0,
             "ticks": ""
            },
            "colorscale": [
             [
              0,
              "#0d0887"
             ],
             [
              0.1111111111111111,
              "#46039f"
             ],
             [
              0.2222222222222222,
              "#7201a8"
             ],
             [
              0.3333333333333333,
              "#9c179e"
             ],
             [
              0.4444444444444444,
              "#bd3786"
             ],
             [
              0.5555555555555556,
              "#d8576b"
             ],
             [
              0.6666666666666666,
              "#ed7953"
             ],
             [
              0.7777777777777778,
              "#fb9f3a"
             ],
             [
              0.8888888888888888,
              "#fdca26"
             ],
             [
              1,
              "#f0f921"
             ]
            ],
            "type": "histogram2dcontour"
           }
          ],
          "mesh3d": [
           {
            "colorbar": {
             "outlinewidth": 0,
             "ticks": ""
            },
            "type": "mesh3d"
           }
          ],
          "parcoords": [
           {
            "line": {
             "colorbar": {
              "outlinewidth": 0,
              "ticks": ""
             }
            },
            "type": "parcoords"
           }
          ],
          "pie": [
           {
            "automargin": true,
            "type": "pie"
           }
          ],
          "scatter": [
           {
            "fillpattern": {
             "fillmode": "overlay",
             "size": 10,
             "solidity": 0.2
            },
            "type": "scatter"
           }
          ],
          "scatter3d": [
           {
            "line": {
             "colorbar": {
              "outlinewidth": 0,
              "ticks": ""
             }
            },
            "marker": {
             "colorbar": {
              "outlinewidth": 0,
              "ticks": ""
             }
            },
            "type": "scatter3d"
           }
          ],
          "scattercarpet": [
           {
            "marker": {
             "colorbar": {
              "outlinewidth": 0,
              "ticks": ""
             }
            },
            "type": "scattercarpet"
           }
          ],
          "scattergeo": [
           {
            "marker": {
             "colorbar": {
              "outlinewidth": 0,
              "ticks": ""
             }
            },
            "type": "scattergeo"
           }
          ],
          "scattergl": [
           {
            "marker": {
             "colorbar": {
              "outlinewidth": 0,
              "ticks": ""
             }
            },
            "type": "scattergl"
           }
          ],
          "scattermapbox": [
           {
            "marker": {
             "colorbar": {
              "outlinewidth": 0,
              "ticks": ""
             }
            },
            "type": "scattermapbox"
           }
          ],
          "scatterpolar": [
           {
            "marker": {
             "colorbar": {
              "outlinewidth": 0,
              "ticks": ""
             }
            },
            "type": "scatterpolar"
           }
          ],
          "scatterpolargl": [
           {
            "marker": {
             "colorbar": {
              "outlinewidth": 0,
              "ticks": ""
             }
            },
            "type": "scatterpolargl"
           }
          ],
          "scatterternary": [
           {
            "marker": {
             "colorbar": {
              "outlinewidth": 0,
              "ticks": ""
             }
            },
            "type": "scatterternary"
           }
          ],
          "surface": [
           {
            "colorbar": {
             "outlinewidth": 0,
             "ticks": ""
            },
            "colorscale": [
             [
              0,
              "#0d0887"
             ],
             [
              0.1111111111111111,
              "#46039f"
             ],
             [
              0.2222222222222222,
              "#7201a8"
             ],
             [
              0.3333333333333333,
              "#9c179e"
             ],
             [
              0.4444444444444444,
              "#bd3786"
             ],
             [
              0.5555555555555556,
              "#d8576b"
             ],
             [
              0.6666666666666666,
              "#ed7953"
             ],
             [
              0.7777777777777778,
              "#fb9f3a"
             ],
             [
              0.8888888888888888,
              "#fdca26"
             ],
             [
              1,
              "#f0f921"
             ]
            ],
            "type": "surface"
           }
          ],
          "table": [
           {
            "cells": {
             "fill": {
              "color": "#EBF0F8"
             },
             "line": {
              "color": "white"
             }
            },
            "header": {
             "fill": {
              "color": "#C8D4E3"
             },
             "line": {
              "color": "white"
             }
            },
            "type": "table"
           }
          ]
         },
         "layout": {
          "annotationdefaults": {
           "arrowcolor": "#2a3f5f",
           "arrowhead": 0,
           "arrowwidth": 1
          },
          "autotypenumbers": "strict",
          "coloraxis": {
           "colorbar": {
            "outlinewidth": 0,
            "ticks": ""
           }
          },
          "colorscale": {
           "diverging": [
            [
             0,
             "#8e0152"
            ],
            [
             0.1,
             "#c51b7d"
            ],
            [
             0.2,
             "#de77ae"
            ],
            [
             0.3,
             "#f1b6da"
            ],
            [
             0.4,
             "#fde0ef"
            ],
            [
             0.5,
             "#f7f7f7"
            ],
            [
             0.6,
             "#e6f5d0"
            ],
            [
             0.7,
             "#b8e186"
            ],
            [
             0.8,
             "#7fbc41"
            ],
            [
             0.9,
             "#4d9221"
            ],
            [
             1,
             "#276419"
            ]
           ],
           "sequential": [
            [
             0,
             "#0d0887"
            ],
            [
             0.1111111111111111,
             "#46039f"
            ],
            [
             0.2222222222222222,
             "#7201a8"
            ],
            [
             0.3333333333333333,
             "#9c179e"
            ],
            [
             0.4444444444444444,
             "#bd3786"
            ],
            [
             0.5555555555555556,
             "#d8576b"
            ],
            [
             0.6666666666666666,
             "#ed7953"
            ],
            [
             0.7777777777777778,
             "#fb9f3a"
            ],
            [
             0.8888888888888888,
             "#fdca26"
            ],
            [
             1,
             "#f0f921"
            ]
           ],
           "sequentialminus": [
            [
             0,
             "#0d0887"
            ],
            [
             0.1111111111111111,
             "#46039f"
            ],
            [
             0.2222222222222222,
             "#7201a8"
            ],
            [
             0.3333333333333333,
             "#9c179e"
            ],
            [
             0.4444444444444444,
             "#bd3786"
            ],
            [
             0.5555555555555556,
             "#d8576b"
            ],
            [
             0.6666666666666666,
             "#ed7953"
            ],
            [
             0.7777777777777778,
             "#fb9f3a"
            ],
            [
             0.8888888888888888,
             "#fdca26"
            ],
            [
             1,
             "#f0f921"
            ]
           ]
          },
          "colorway": [
           "#636efa",
           "#EF553B",
           "#00cc96",
           "#ab63fa",
           "#FFA15A",
           "#19d3f3",
           "#FF6692",
           "#B6E880",
           "#FF97FF",
           "#FECB52"
          ],
          "font": {
           "color": "#2a3f5f"
          },
          "geo": {
           "bgcolor": "white",
           "lakecolor": "white",
           "landcolor": "#E5ECF6",
           "showlakes": true,
           "showland": true,
           "subunitcolor": "white"
          },
          "hoverlabel": {
           "align": "left"
          },
          "hovermode": "closest",
          "mapbox": {
           "style": "light"
          },
          "paper_bgcolor": "white",
          "plot_bgcolor": "#E5ECF6",
          "polar": {
           "angularaxis": {
            "gridcolor": "white",
            "linecolor": "white",
            "ticks": ""
           },
           "bgcolor": "#E5ECF6",
           "radialaxis": {
            "gridcolor": "white",
            "linecolor": "white",
            "ticks": ""
           }
          },
          "scene": {
           "xaxis": {
            "backgroundcolor": "#E5ECF6",
            "gridcolor": "white",
            "gridwidth": 2,
            "linecolor": "white",
            "showbackground": true,
            "ticks": "",
            "zerolinecolor": "white"
           },
           "yaxis": {
            "backgroundcolor": "#E5ECF6",
            "gridcolor": "white",
            "gridwidth": 2,
            "linecolor": "white",
            "showbackground": true,
            "ticks": "",
            "zerolinecolor": "white"
           },
           "zaxis": {
            "backgroundcolor": "#E5ECF6",
            "gridcolor": "white",
            "gridwidth": 2,
            "linecolor": "white",
            "showbackground": true,
            "ticks": "",
            "zerolinecolor": "white"
           }
          },
          "shapedefaults": {
           "line": {
            "color": "#2a3f5f"
           }
          },
          "ternary": {
           "aaxis": {
            "gridcolor": "white",
            "linecolor": "white",
            "ticks": ""
           },
           "baxis": {
            "gridcolor": "white",
            "linecolor": "white",
            "ticks": ""
           },
           "bgcolor": "#E5ECF6",
           "caxis": {
            "gridcolor": "white",
            "linecolor": "white",
            "ticks": ""
           }
          },
          "title": {
           "x": 0.05
          },
          "xaxis": {
           "automargin": true,
           "gridcolor": "white",
           "linecolor": "white",
           "ticks": "",
           "title": {
            "standoff": 15
           },
           "zerolinecolor": "white",
           "zerolinewidth": 2
          },
          "yaxis": {
           "automargin": true,
           "gridcolor": "white",
           "linecolor": "white",
           "ticks": "",
           "title": {
            "standoff": 15
           },
           "zerolinecolor": "white",
           "zerolinewidth": 2
          }
         }
        },
        "title": {
         "text": "Lancements de satellites chinois en 2024"
        }
       }
      }
     },
     "metadata": {},
     "output_type": "display_data"
    }
   ],
   "source": [
    "import plotly.graph_objects as go\n",
    "\n",
    "fig = go.Figure()\n",
    "fig.add_trace(go.Histogram(histfunc=\"count\",  x=df[df['COSPAR PAYS'].str.contains('Chine')]['CENTRE SPATIAL PAS DE TIR']))\n",
    "fig.update_layout(title_text='Lancements de satellites chinois en 2024')\n",
    "fig.show()"
   ]
  },
  {
   "cell_type": "markdown",
   "metadata": {},
   "source": [
    "**test for Xichang Space Center**"
   ]
  },
  {
   "cell_type": "code",
   "execution_count": 21,
   "metadata": {},
   "outputs": [
    {
     "name": "stdout",
     "output_type": "stream",
     "text": [
      "Test for Xichang Space Center coordinates: 28.1446, 102.0136, 0.0\n"
     ]
    }
   ],
   "source": [
    "site = 'Xichang Space Center'\n",
    "# coordinates for Xichang Space Center\n",
    "xsp_lat = 28.1446\n",
    "xsp_long = 102.0136\n",
    "xsp_height = 0.0\n",
    "print(f\"Test for Xichang Space Center coordinates: {xsp_lat}, {xsp_long}, {xsp_height}\")"
   ]
  },
  {
   "cell_type": "code",
   "execution_count": 22,
   "metadata": {},
   "outputs": [],
   "source": [
    "df_chine_selected = df[df['CENTRE SPATIAL PAS DE TIR'].str.contains(site)]"
   ]
  },
  {
   "cell_type": "code",
   "execution_count": 23,
   "metadata": {},
   "outputs": [
    {
     "name": "stdout",
     "output_type": "stream",
     "text": [
      "for the laught at 2024-01-08 13:14:00 on Xichang Space Center, satellite was at -37.9°\n",
      "for the laught at 2024-02-02 23:37:00 on Xichang Space Center, satellite was at -55.9°\n",
      "for the laught at 2024-02-04 22:56:00 on Xichang Space Center, satellite was at -43.4°\n",
      "for the laught at 2024-02-29 13:03:00 on Xichang Space Center, satellite was at -42.8°\n",
      "for the laught at 2024-03-09 01:22:00 on Xichang Space Center, satellite was at -58.8°\n",
      "for the laught at 2024-03-12 05:56:00 on Xichang Space Center, satellite was at -18.5°\n",
      "for the laught at 2024-03-13 12:51:00 on Xichang Space Center, satellite was at -46.3°\n",
      "for the laught at 2024-04-12 04:46:00 on Xichang Space Center, satellite was at -40.8°\n",
      "for the laught at 2024-04-20 23:45:00 on Xichang Space Center, satellite was at -62.9°\n",
      "for the laught at 2024-05-30 12:12:00 on Xichang Space Center, satellite was at -45.8°\n",
      "for the laught at 2024-06-22 07:00:00 on Xichang Space Center, satellite was at -28.5°\n",
      "for the laught at 2024-08-16 07:35:00 on Xichang Space Center, satellite was at -9.7°\n",
      "for the laught at 2024-09-05 01:43:00 on Xichang Space Center, satellite was at -63.0°\n",
      "for the laught at 2024-09-19 01:14:00 on Xichang Space Center, satellite was at -33.9°\n",
      "for the laught at 2024-09-20 09:43:00 on Xichang Space Center, satellite was at -33.2°\n",
      "for the laught at 2024-10-10 13:50:00 on Xichang Space Center, satellite was at -30.8°\n",
      "for the laught at 2024-10-23 01:09:00 on Xichang Space Center, satellite was at -66.0°\n",
      "for the laught at 2024-12-20 15:12:00 on Xichang Space Center, satellite was at -60.0°\n"
     ]
    }
   ],
   "source": [
    "nb_overpass_site = 0\n",
    "for date in df_chine_selected.index:\n",
    "    elev_date = fct_space.est_visible(tle_line_1, tle_line_2, xsp_lat, xsp_long, xsp_height, date)\n",
    "    print(f'for the laught at {date} on {site}, satellite was at {elev_date:.1f}°')\n",
    "    if elev_date > 0:\n",
    "        nb_overpass_site += 1\n"
   ]
  },
  {
   "cell_type": "code",
   "execution_count": 24,
   "metadata": {},
   "outputs": [
    {
     "name": "stdout",
     "output_type": "stream",
     "text": [
      "Number of overpass for Xichang Space Center in 2024: 0\n",
      "Probability of mission success for Xichang Space Center in 2024: 0.0\n"
     ]
    }
   ],
   "source": [
    "print(f'Number of overpass for {site} in 2024: {nb_overpass_site}')\n",
    "print(f'Probability of mission success for {site} in 2024: {nb_overpass_site/len(df_chine_selected)}')"
   ]
  },
  {
   "cell_type": "markdown",
   "metadata": {},
   "source": [
    "## Step 4 : Test for all orbits"
   ]
  },
  {
   "cell_type": "code",
   "execution_count": 25,
   "metadata": {},
   "outputs": [],
   "source": [
    "raans = []\n",
    "inclinations = []\n",
    "altitudes = []\n",
    "probabilities = []\n",
    "\n",
    "\n",
    "for raan_ in range(0, 360, 10):\n",
    "    for inclination_ in range(50, 100+10, 5):\n",
    "        for altitude_ in range(400, 600+50, 20):\n",
    "            sma_ = fct_space.Rt + altitude_\n",
    "            tle_line_1, tle_line_2 = fct_space.generate_tle(\n",
    "                raan_, inclination_, arg_perigee, sma_, eccentricity, date_time\n",
    "            )\n",
    "            # print(f'TLE for RAAN: {raan_}, Inclination: {inclination_}, Altitude: {altitude_}')\n",
    "            nb_overpass_site = 0\n",
    "            for date in df_chine_selected.index:\n",
    "                elev_date = fct_space.est_visible(tle_line_1, tle_line_2, xsp_lat, xsp_long, xsp_height, date)\n",
    "                # print(f'for the laught at {date} on {site}, satellite was at {elev_date:.1f}°')\n",
    "                if elev_date > 0:\n",
    "                    print(f'for the laught at {date} on {site}, satellite was at {elev_date:.1f}°')\n",
    "                    nb_overpass_site += 1\n",
    "            raans.append(raan_)\n",
    "            inclinations.append(inclination_)\n",
    "            altitudes.append(altitude_)\n",
    "            probabilities.append(nb_overpass_site/len(df_chine_selected))\n",
    "df_prob = pd.DataFrame([raans, inclinations, altitudes, probabilities], index=['raan', 'inclinaison', 'altitude', 'probabilities']).T"
   ]
  },
  {
   "cell_type": "code",
   "execution_count": 26,
   "metadata": {},
   "outputs": [
    {
     "data": {
      "text/html": [
       "<div>\n",
       "<style scoped>\n",
       "    .dataframe tbody tr th:only-of-type {\n",
       "        vertical-align: middle;\n",
       "    }\n",
       "\n",
       "    .dataframe tbody tr th {\n",
       "        vertical-align: top;\n",
       "    }\n",
       "\n",
       "    .dataframe thead th {\n",
       "        text-align: right;\n",
       "    }\n",
       "</style>\n",
       "<table border=\"1\" class=\"dataframe\">\n",
       "  <thead>\n",
       "    <tr style=\"text-align: right;\">\n",
       "      <th></th>\n",
       "      <th>raan</th>\n",
       "      <th>inclinaison</th>\n",
       "      <th>altitude</th>\n",
       "      <th>probabilities</th>\n",
       "    </tr>\n",
       "  </thead>\n",
       "  <tbody>\n",
       "    <tr>\n",
       "      <th>0</th>\n",
       "      <td>0.0</td>\n",
       "      <td>50.0</td>\n",
       "      <td>400.0</td>\n",
       "      <td>0.0</td>\n",
       "    </tr>\n",
       "    <tr>\n",
       "      <th>1</th>\n",
       "      <td>0.0</td>\n",
       "      <td>50.0</td>\n",
       "      <td>420.0</td>\n",
       "      <td>0.0</td>\n",
       "    </tr>\n",
       "    <tr>\n",
       "      <th>2</th>\n",
       "      <td>0.0</td>\n",
       "      <td>50.0</td>\n",
       "      <td>440.0</td>\n",
       "      <td>0.0</td>\n",
       "    </tr>\n",
       "    <tr>\n",
       "      <th>3</th>\n",
       "      <td>0.0</td>\n",
       "      <td>50.0</td>\n",
       "      <td>460.0</td>\n",
       "      <td>0.0</td>\n",
       "    </tr>\n",
       "    <tr>\n",
       "      <th>4</th>\n",
       "      <td>0.0</td>\n",
       "      <td>50.0</td>\n",
       "      <td>480.0</td>\n",
       "      <td>0.0</td>\n",
       "    </tr>\n",
       "    <tr>\n",
       "      <th>...</th>\n",
       "      <td>...</td>\n",
       "      <td>...</td>\n",
       "      <td>...</td>\n",
       "      <td>...</td>\n",
       "    </tr>\n",
       "    <tr>\n",
       "      <th>5611</th>\n",
       "      <td>350.0</td>\n",
       "      <td>105.0</td>\n",
       "      <td>560.0</td>\n",
       "      <td>0.0</td>\n",
       "    </tr>\n",
       "    <tr>\n",
       "      <th>5612</th>\n",
       "      <td>350.0</td>\n",
       "      <td>105.0</td>\n",
       "      <td>580.0</td>\n",
       "      <td>0.0</td>\n",
       "    </tr>\n",
       "    <tr>\n",
       "      <th>5613</th>\n",
       "      <td>350.0</td>\n",
       "      <td>105.0</td>\n",
       "      <td>600.0</td>\n",
       "      <td>0.0</td>\n",
       "    </tr>\n",
       "    <tr>\n",
       "      <th>5614</th>\n",
       "      <td>350.0</td>\n",
       "      <td>105.0</td>\n",
       "      <td>620.0</td>\n",
       "      <td>0.0</td>\n",
       "    </tr>\n",
       "    <tr>\n",
       "      <th>5615</th>\n",
       "      <td>350.0</td>\n",
       "      <td>105.0</td>\n",
       "      <td>640.0</td>\n",
       "      <td>0.0</td>\n",
       "    </tr>\n",
       "  </tbody>\n",
       "</table>\n",
       "<p>5616 rows × 4 columns</p>\n",
       "</div>"
      ],
      "text/plain": [
       "       raan  inclinaison  altitude  probabilities\n",
       "0       0.0         50.0     400.0            0.0\n",
       "1       0.0         50.0     420.0            0.0\n",
       "2       0.0         50.0     440.0            0.0\n",
       "3       0.0         50.0     460.0            0.0\n",
       "4       0.0         50.0     480.0            0.0\n",
       "...     ...          ...       ...            ...\n",
       "5611  350.0        105.0     560.0            0.0\n",
       "5612  350.0        105.0     580.0            0.0\n",
       "5613  350.0        105.0     600.0            0.0\n",
       "5614  350.0        105.0     620.0            0.0\n",
       "5615  350.0        105.0     640.0            0.0\n",
       "\n",
       "[5616 rows x 4 columns]"
      ]
     },
     "execution_count": 26,
     "metadata": {},
     "output_type": "execute_result"
    }
   ],
   "source": [
    "df_prob"
   ]
  },
  {
   "cell_type": "code",
   "execution_count": 27,
   "metadata": {},
   "outputs": [
    {
     "data": {
      "text/html": [
       "<div>\n",
       "<style scoped>\n",
       "    .dataframe tbody tr th:only-of-type {\n",
       "        vertical-align: middle;\n",
       "    }\n",
       "\n",
       "    .dataframe tbody tr th {\n",
       "        vertical-align: top;\n",
       "    }\n",
       "\n",
       "    .dataframe thead th {\n",
       "        text-align: right;\n",
       "    }\n",
       "</style>\n",
       "<table border=\"1\" class=\"dataframe\">\n",
       "  <thead>\n",
       "    <tr style=\"text-align: right;\">\n",
       "      <th></th>\n",
       "      <th>raan</th>\n",
       "      <th>inclinaison</th>\n",
       "      <th>altitude</th>\n",
       "      <th>probabilities</th>\n",
       "    </tr>\n",
       "  </thead>\n",
       "  <tbody>\n",
       "  </tbody>\n",
       "</table>\n",
       "</div>"
      ],
      "text/plain": [
       "Empty DataFrame\n",
       "Columns: [raan, inclinaison, altitude, probabilities]\n",
       "Index: []"
      ]
     },
     "execution_count": 27,
     "metadata": {},
     "output_type": "execute_result"
    }
   ],
   "source": [
    "df_prob[df_prob['probabilities'] > 0]"
   ]
  }
 ],
 "metadata": {
  "kernelspec": {
   "display_name": "Python 3",
   "language": "python",
   "name": "python3"
  },
  "language_info": {
   "codemirror_mode": {
    "name": "ipython",
    "version": 3
   },
   "file_extension": ".py",
   "mimetype": "text/x-python",
   "name": "python",
   "nbconvert_exporter": "python",
   "pygments_lexer": "ipython3",
   "version": "3.10.12"
  }
 },
 "nbformat": 4,
 "nbformat_minor": 2
}
