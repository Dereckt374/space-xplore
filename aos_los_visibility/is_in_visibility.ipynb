{
 "cells": [
  {
   "cell_type": "code",
   "execution_count": 1,
   "metadata": {},
   "outputs": [],
   "source": [
    "import sys\n",
    "import os\n",
    "from skyfield.api import Topos, load\n",
    "from datetime import datetime, timezone\n",
    "sys.path.append(os.path.abspath(os.path.join(os.getcwd(), '..')))\n",
    "import fct_space "
   ]
  },
  {
   "cell_type": "code",
   "execution_count": 7,
   "metadata": {},
   "outputs": [],
   "source": [
    "tle_line1 = \"1 60243U 24128J   25092.03294158  .00011251  00000+0  82218-3 0  9995\"\n",
    "tle_line2 = \"2 60243  61.9901 318.2371 0043535  36.0343 324.3669 15.03310339 39910\""
   ]
  },
  {
   "cell_type": "code",
   "execution_count": 8,
   "metadata": {},
   "outputs": [],
   "source": [
    "def est_visible(tle_line1 : str, tle_line2 : str, lat : float, lon : float, alt : float, date : datetime):\n",
    "    ts = load.timescale()\n",
    "    satellite = fct_space.TLE_to_sat('\\n'.join([tle_line1, tle_line2]))\n",
    "    t = ts.utc(date.year, date.month, date.day, date.hour, date.minute, date.second)\n",
    "\n",
    "    observateur = Topos(latitude_degrees=lat, longitude_degrees=lon, elevation_m=alt)\n",
    "\n",
    "    # Calcul de la position\n",
    "    difference = satellite - observateur\n",
    "    topocentric = difference.at(t)\n",
    "    alt, az, distance = topocentric.altaz()\n",
    "\n",
    "    return alt.degrees"
   ]
  },
  {
   "cell_type": "code",
   "execution_count": 9,
   "metadata": {},
   "outputs": [
    {
     "name": "stdout",
     "output_type": "stream",
     "text": [
      "-69.77441724207198\n"
     ]
    }
   ],
   "source": [
    "lat, lon, alt = fct_space.lat_mtp, fct_space.long_mtp, 17\n",
    "date = datetime.now(timezone.utc)\n",
    "\n",
    "print(est_visible(tle_line1, tle_line2, lat, lon, alt, date))"
   ]
  }
 ],
 "metadata": {
  "kernelspec": {
   "display_name": "Python 3",
   "language": "python",
   "name": "python3"
  },
  "language_info": {
   "codemirror_mode": {
    "name": "ipython",
    "version": 3
   },
   "file_extension": ".py",
   "mimetype": "text/x-python",
   "name": "python",
   "nbconvert_exporter": "python",
   "pygments_lexer": "ipython3",
   "version": "3.10.12"
  }
 },
 "nbformat": 4,
 "nbformat_minor": 2
}
