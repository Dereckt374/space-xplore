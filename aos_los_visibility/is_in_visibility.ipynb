{
 "cells": [
  {
   "cell_type": "code",
   "execution_count": 1,
   "metadata": {},
   "outputs": [],
   "source": [
    "import sys\n",
    "import os\n",
    "from skyfield.api import Topos, load\n",
    "from datetime import datetime, timezone\n",
    "sys.path.append(os.path.abspath(os.path.join(os.getcwd(), '..')))\n",
    "import fct_space "
   ]
  },
  {
   "cell_type": "code",
   "execution_count": 2,
   "metadata": {},
   "outputs": [],
   "source": [
    "tle_line1 = \"1 60243U 24128J   25092.03294158  .00011251  00000+0  82218-3 0  9995\"\n",
    "tle_line2 = \"2 60243  61.9901 318.2371 0043535  36.0343 324.3669 15.03310339 39910\""
   ]
  },
  {
   "cell_type": "code",
   "execution_count": 3,
   "metadata": {},
   "outputs": [
    {
     "name": "stdout",
     "output_type": "stream",
     "text": [
      "-53.70371520145749\n"
     ]
    }
   ],
   "source": [
    "lat, lon, alt = fct_space.lat_mtp, fct_space.long_mtp, 17\n",
    "date = datetime.now(timezone.utc)\n",
    "\n",
    "print(fct_space.est_visible(tle_line1, tle_line2, lat, lon, alt, date))"
   ]
  }
 ],
 "metadata": {
  "kernelspec": {
   "display_name": "Python 3",
   "language": "python",
   "name": "python3"
  },
  "language_info": {
   "codemirror_mode": {
    "name": "ipython",
    "version": 3
   },
   "file_extension": ".py",
   "mimetype": "text/x-python",
   "name": "python",
   "nbconvert_exporter": "python",
   "pygments_lexer": "ipython3",
   "version": "3.10.12"
  }
 },
 "nbformat": 4,
 "nbformat_minor": 2
}
